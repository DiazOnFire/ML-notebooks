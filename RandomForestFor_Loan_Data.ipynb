{
 "cells": [
  {
   "cell_type": "markdown",
   "id": "07bc14a6",
   "metadata": {
    "papermill": {
     "duration": 0.012413,
     "end_time": "2022-12-17T22:12:32.358415",
     "exception": false,
     "start_time": "2022-12-17T22:12:32.346002",
     "status": "completed"
    },
    "tags": []
   },
   "source": [
    "___\n",
    "\n",
    "<a href='http://www.pieriandata.com'> <img src='../Pierian_Data_Logo.png' /></a>\n",
    "___\n",
    "# Random Forest Project \n",
    "\n",
    "For this project we will be exploring publicly available data from [LendingClub.com](www.lendingclub.com). Lending Club connects people who need money (borrowers) with people who have money (investors). Hopefully, as an investor you would want to invest in people who showed a profile of having a high probability of paying you back. We will try to create a model that will help predict this.\n",
    "\n",
    "Lending club had a [very interesting year in 2016](https://en.wikipedia.org/wiki/Lending_Club#2016), so let's check out some of their data and keep the context in mind. This data is from before they even went public.\n",
    "\n",
    "We will use lending data from 2007-2010 and be trying to classify and predict whether or not the borrower paid back their loan in full. You can download the data from [here](https://www.lendingclub.com/info/download-data.action) or just use the csv already provided. It's recommended you use the csv provided as it has been cleaned of NA values.\n",
    "\n",
    "Here are what the columns represent:\n",
    "* credit.policy: 1 if the customer meets the credit underwriting criteria of LendingClub.com, and 0 otherwise.\n",
    "* purpose: The purpose of the loan (takes values \"credit_card\", \"debt_consolidation\", \"educational\", \"major_purchase\", \"small_business\", and \"all_other\").\n",
    "* int.rate: The interest rate of the loan, as a proportion (a rate of 11% would be stored as 0.11). Borrowers judged by LendingClub.com to be more risky are assigned higher interest rates.\n",
    "* installment: The monthly installments owed by the borrower if the loan is funded.\n",
    "* log.annual.inc: The natural log of the self-reported annual income of the borrower.\n",
    "* dti: The debt-to-income ratio of the borrower (amount of debt divided by annual income).\n",
    "* fico: The FICO credit score of the borrower.\n",
    "* days.with.cr.line: The number of days the borrower has had a credit line.\n",
    "* revol.bal: The borrower's revolving balance (amount unpaid at the end of the credit card billing cycle).\n",
    "* revol.util: The borrower's revolving line utilization rate (the amount of the credit line used relative to total credit available).\n",
    "* inq.last.6mths: The borrower's number of inquiries by creditors in the last 6 months.\n",
    "* delinq.2yrs: The number of times the borrower had been 30+ days past due on a payment in the past 2 years.\n",
    "* pub.rec: The borrower's number of derogatory public records (bankruptcy filings, tax liens, or judgments)."
   ]
  },
  {
   "cell_type": "markdown",
   "id": "d2e476d6",
   "metadata": {
    "papermill": {
     "duration": 0.012299,
     "end_time": "2022-12-17T22:12:32.382037",
     "exception": false,
     "start_time": "2022-12-17T22:12:32.369738",
     "status": "completed"
    },
    "tags": []
   },
   "source": [
    "# Import Libraries\n",
    "\n",
    "**Import the usual libraries for pandas and plotting. You can import sklearn later on.**"
   ]
  },
  {
   "cell_type": "code",
   "execution_count": 1,
   "id": "d17c9fc6",
   "metadata": {
    "execution": {
     "iopub.execute_input": "2022-12-17T22:12:32.406768Z",
     "iopub.status.busy": "2022-12-17T22:12:32.405715Z",
     "iopub.status.idle": "2022-12-17T22:12:33.413095Z",
     "shell.execute_reply": "2022-12-17T22:12:33.411861Z"
    },
    "papermill": {
     "duration": 1.023309,
     "end_time": "2022-12-17T22:12:33.416111",
     "exception": false,
     "start_time": "2022-12-17T22:12:32.392802",
     "status": "completed"
    },
    "tags": []
   },
   "outputs": [],
   "source": [
    "import pandas as pd\n",
    "import numpy as np\n",
    "import seaborn as sns\n",
    "import matplotlib.pyplot as plt\n",
    "%matplotlib inline\n"
   ]
  },
  {
   "cell_type": "markdown",
   "id": "5a889d1c",
   "metadata": {
    "papermill": {
     "duration": 0.010351,
     "end_time": "2022-12-17T22:12:33.437320",
     "exception": false,
     "start_time": "2022-12-17T22:12:33.426969",
     "status": "completed"
    },
    "tags": []
   },
   "source": [
    "## Get the Data\n",
    "\n",
    "** Use pandas to read loan_data.csv as a dataframe called loans.**"
   ]
  },
  {
   "cell_type": "code",
   "execution_count": 2,
   "id": "eb8a83d7",
   "metadata": {
    "execution": {
     "iopub.execute_input": "2022-12-17T22:12:33.461558Z",
     "iopub.status.busy": "2022-12-17T22:12:33.461062Z",
     "iopub.status.idle": "2022-12-17T22:12:33.515365Z",
     "shell.execute_reply": "2022-12-17T22:12:33.514091Z"
    },
    "papermill": {
     "duration": 0.069886,
     "end_time": "2022-12-17T22:12:33.518266",
     "exception": false,
     "start_time": "2022-12-17T22:12:33.448380",
     "status": "completed"
    },
    "tags": []
   },
   "outputs": [],
   "source": [
    "loans=pd.read_csv('/kaggle/input/lending-club-loan-data-analysis/loan_data.csv')"
   ]
  },
  {
   "cell_type": "markdown",
   "id": "5bfe3dbe",
   "metadata": {
    "papermill": {
     "duration": 0.011205,
     "end_time": "2022-12-17T22:12:33.541153",
     "exception": false,
     "start_time": "2022-12-17T22:12:33.529948",
     "status": "completed"
    },
    "tags": []
   },
   "source": [
    "** Check out the info(), head(), and describe() methods on loans.**"
   ]
  },
  {
   "cell_type": "code",
   "execution_count": 3,
   "id": "44eba858",
   "metadata": {
    "collapsed": false,
    "execution": {
     "iopub.execute_input": "2022-12-17T22:12:33.565473Z",
     "iopub.status.busy": "2022-12-17T22:12:33.565052Z",
     "iopub.status.idle": "2022-12-17T22:12:33.591355Z",
     "shell.execute_reply": "2022-12-17T22:12:33.589961Z"
    },
    "jupyter": {
     "outputs_hidden": false
    },
    "papermill": {
     "duration": 0.043211,
     "end_time": "2022-12-17T22:12:33.595275",
     "exception": false,
     "start_time": "2022-12-17T22:12:33.552064",
     "status": "completed"
    },
    "tags": []
   },
   "outputs": [
    {
     "name": "stdout",
     "output_type": "stream",
     "text": [
      "<class 'pandas.core.frame.DataFrame'>\n",
      "RangeIndex: 9578 entries, 0 to 9577\n",
      "Data columns (total 14 columns):\n",
      " #   Column             Non-Null Count  Dtype  \n",
      "---  ------             --------------  -----  \n",
      " 0   credit.policy      9578 non-null   int64  \n",
      " 1   purpose            9578 non-null   object \n",
      " 2   int.rate           9578 non-null   float64\n",
      " 3   installment        9578 non-null   float64\n",
      " 4   log.annual.inc     9578 non-null   float64\n",
      " 5   dti                9578 non-null   float64\n",
      " 6   fico               9578 non-null   int64  \n",
      " 7   days.with.cr.line  9578 non-null   float64\n",
      " 8   revol.bal          9578 non-null   int64  \n",
      " 9   revol.util         9578 non-null   float64\n",
      " 10  inq.last.6mths     9578 non-null   int64  \n",
      " 11  delinq.2yrs        9578 non-null   int64  \n",
      " 12  pub.rec            9578 non-null   int64  \n",
      " 13  not.fully.paid     9578 non-null   int64  \n",
      "dtypes: float64(6), int64(7), object(1)\n",
      "memory usage: 1.0+ MB\n"
     ]
    }
   ],
   "source": [
    "loans.info()"
   ]
  },
  {
   "cell_type": "code",
   "execution_count": 4,
   "id": "cec98e70",
   "metadata": {
    "collapsed": false,
    "execution": {
     "iopub.execute_input": "2022-12-17T22:12:33.620666Z",
     "iopub.status.busy": "2022-12-17T22:12:33.619879Z",
     "iopub.status.idle": "2022-12-17T22:12:33.690326Z",
     "shell.execute_reply": "2022-12-17T22:12:33.688700Z"
    },
    "jupyter": {
     "outputs_hidden": false
    },
    "papermill": {
     "duration": 0.086867,
     "end_time": "2022-12-17T22:12:33.694048",
     "exception": false,
     "start_time": "2022-12-17T22:12:33.607181",
     "status": "completed"
    },
    "tags": []
   },
   "outputs": [
    {
     "data": {
      "text/html": [
       "<div>\n",
       "<style scoped>\n",
       "    .dataframe tbody tr th:only-of-type {\n",
       "        vertical-align: middle;\n",
       "    }\n",
       "\n",
       "    .dataframe tbody tr th {\n",
       "        vertical-align: top;\n",
       "    }\n",
       "\n",
       "    .dataframe thead th {\n",
       "        text-align: right;\n",
       "    }\n",
       "</style>\n",
       "<table border=\"1\" class=\"dataframe\">\n",
       "  <thead>\n",
       "    <tr style=\"text-align: right;\">\n",
       "      <th></th>\n",
       "      <th>credit.policy</th>\n",
       "      <th>int.rate</th>\n",
       "      <th>installment</th>\n",
       "      <th>log.annual.inc</th>\n",
       "      <th>dti</th>\n",
       "      <th>fico</th>\n",
       "      <th>days.with.cr.line</th>\n",
       "      <th>revol.bal</th>\n",
       "      <th>revol.util</th>\n",
       "      <th>inq.last.6mths</th>\n",
       "      <th>delinq.2yrs</th>\n",
       "      <th>pub.rec</th>\n",
       "      <th>not.fully.paid</th>\n",
       "    </tr>\n",
       "  </thead>\n",
       "  <tbody>\n",
       "    <tr>\n",
       "      <th>count</th>\n",
       "      <td>9578.000000</td>\n",
       "      <td>9578.000000</td>\n",
       "      <td>9578.000000</td>\n",
       "      <td>9578.000000</td>\n",
       "      <td>9578.000000</td>\n",
       "      <td>9578.000000</td>\n",
       "      <td>9578.000000</td>\n",
       "      <td>9.578000e+03</td>\n",
       "      <td>9578.000000</td>\n",
       "      <td>9578.000000</td>\n",
       "      <td>9578.000000</td>\n",
       "      <td>9578.000000</td>\n",
       "      <td>9578.000000</td>\n",
       "    </tr>\n",
       "    <tr>\n",
       "      <th>mean</th>\n",
       "      <td>0.804970</td>\n",
       "      <td>0.122640</td>\n",
       "      <td>319.089413</td>\n",
       "      <td>10.932117</td>\n",
       "      <td>12.606679</td>\n",
       "      <td>710.846314</td>\n",
       "      <td>4560.767197</td>\n",
       "      <td>1.691396e+04</td>\n",
       "      <td>46.799236</td>\n",
       "      <td>1.577469</td>\n",
       "      <td>0.163708</td>\n",
       "      <td>0.062122</td>\n",
       "      <td>0.160054</td>\n",
       "    </tr>\n",
       "    <tr>\n",
       "      <th>std</th>\n",
       "      <td>0.396245</td>\n",
       "      <td>0.026847</td>\n",
       "      <td>207.071301</td>\n",
       "      <td>0.614813</td>\n",
       "      <td>6.883970</td>\n",
       "      <td>37.970537</td>\n",
       "      <td>2496.930377</td>\n",
       "      <td>3.375619e+04</td>\n",
       "      <td>29.014417</td>\n",
       "      <td>2.200245</td>\n",
       "      <td>0.546215</td>\n",
       "      <td>0.262126</td>\n",
       "      <td>0.366676</td>\n",
       "    </tr>\n",
       "    <tr>\n",
       "      <th>min</th>\n",
       "      <td>0.000000</td>\n",
       "      <td>0.060000</td>\n",
       "      <td>15.670000</td>\n",
       "      <td>7.547502</td>\n",
       "      <td>0.000000</td>\n",
       "      <td>612.000000</td>\n",
       "      <td>178.958333</td>\n",
       "      <td>0.000000e+00</td>\n",
       "      <td>0.000000</td>\n",
       "      <td>0.000000</td>\n",
       "      <td>0.000000</td>\n",
       "      <td>0.000000</td>\n",
       "      <td>0.000000</td>\n",
       "    </tr>\n",
       "    <tr>\n",
       "      <th>25%</th>\n",
       "      <td>1.000000</td>\n",
       "      <td>0.103900</td>\n",
       "      <td>163.770000</td>\n",
       "      <td>10.558414</td>\n",
       "      <td>7.212500</td>\n",
       "      <td>682.000000</td>\n",
       "      <td>2820.000000</td>\n",
       "      <td>3.187000e+03</td>\n",
       "      <td>22.600000</td>\n",
       "      <td>0.000000</td>\n",
       "      <td>0.000000</td>\n",
       "      <td>0.000000</td>\n",
       "      <td>0.000000</td>\n",
       "    </tr>\n",
       "    <tr>\n",
       "      <th>50%</th>\n",
       "      <td>1.000000</td>\n",
       "      <td>0.122100</td>\n",
       "      <td>268.950000</td>\n",
       "      <td>10.928884</td>\n",
       "      <td>12.665000</td>\n",
       "      <td>707.000000</td>\n",
       "      <td>4139.958333</td>\n",
       "      <td>8.596000e+03</td>\n",
       "      <td>46.300000</td>\n",
       "      <td>1.000000</td>\n",
       "      <td>0.000000</td>\n",
       "      <td>0.000000</td>\n",
       "      <td>0.000000</td>\n",
       "    </tr>\n",
       "    <tr>\n",
       "      <th>75%</th>\n",
       "      <td>1.000000</td>\n",
       "      <td>0.140700</td>\n",
       "      <td>432.762500</td>\n",
       "      <td>11.291293</td>\n",
       "      <td>17.950000</td>\n",
       "      <td>737.000000</td>\n",
       "      <td>5730.000000</td>\n",
       "      <td>1.824950e+04</td>\n",
       "      <td>70.900000</td>\n",
       "      <td>2.000000</td>\n",
       "      <td>0.000000</td>\n",
       "      <td>0.000000</td>\n",
       "      <td>0.000000</td>\n",
       "    </tr>\n",
       "    <tr>\n",
       "      <th>max</th>\n",
       "      <td>1.000000</td>\n",
       "      <td>0.216400</td>\n",
       "      <td>940.140000</td>\n",
       "      <td>14.528354</td>\n",
       "      <td>29.960000</td>\n",
       "      <td>827.000000</td>\n",
       "      <td>17639.958330</td>\n",
       "      <td>1.207359e+06</td>\n",
       "      <td>119.000000</td>\n",
       "      <td>33.000000</td>\n",
       "      <td>13.000000</td>\n",
       "      <td>5.000000</td>\n",
       "      <td>1.000000</td>\n",
       "    </tr>\n",
       "  </tbody>\n",
       "</table>\n",
       "</div>"
      ],
      "text/plain": [
       "       credit.policy     int.rate  installment  log.annual.inc          dti  \\\n",
       "count    9578.000000  9578.000000  9578.000000     9578.000000  9578.000000   \n",
       "mean        0.804970     0.122640   319.089413       10.932117    12.606679   \n",
       "std         0.396245     0.026847   207.071301        0.614813     6.883970   \n",
       "min         0.000000     0.060000    15.670000        7.547502     0.000000   \n",
       "25%         1.000000     0.103900   163.770000       10.558414     7.212500   \n",
       "50%         1.000000     0.122100   268.950000       10.928884    12.665000   \n",
       "75%         1.000000     0.140700   432.762500       11.291293    17.950000   \n",
       "max         1.000000     0.216400   940.140000       14.528354    29.960000   \n",
       "\n",
       "              fico  days.with.cr.line     revol.bal   revol.util  \\\n",
       "count  9578.000000        9578.000000  9.578000e+03  9578.000000   \n",
       "mean    710.846314        4560.767197  1.691396e+04    46.799236   \n",
       "std      37.970537        2496.930377  3.375619e+04    29.014417   \n",
       "min     612.000000         178.958333  0.000000e+00     0.000000   \n",
       "25%     682.000000        2820.000000  3.187000e+03    22.600000   \n",
       "50%     707.000000        4139.958333  8.596000e+03    46.300000   \n",
       "75%     737.000000        5730.000000  1.824950e+04    70.900000   \n",
       "max     827.000000       17639.958330  1.207359e+06   119.000000   \n",
       "\n",
       "       inq.last.6mths  delinq.2yrs      pub.rec  not.fully.paid  \n",
       "count     9578.000000  9578.000000  9578.000000     9578.000000  \n",
       "mean         1.577469     0.163708     0.062122        0.160054  \n",
       "std          2.200245     0.546215     0.262126        0.366676  \n",
       "min          0.000000     0.000000     0.000000        0.000000  \n",
       "25%          0.000000     0.000000     0.000000        0.000000  \n",
       "50%          1.000000     0.000000     0.000000        0.000000  \n",
       "75%          2.000000     0.000000     0.000000        0.000000  \n",
       "max         33.000000    13.000000     5.000000        1.000000  "
      ]
     },
     "execution_count": 4,
     "metadata": {},
     "output_type": "execute_result"
    }
   ],
   "source": [
    "loans.describe()"
   ]
  },
  {
   "cell_type": "code",
   "execution_count": 5,
   "id": "53a0269c",
   "metadata": {
    "collapsed": false,
    "execution": {
     "iopub.execute_input": "2022-12-17T22:12:33.726058Z",
     "iopub.status.busy": "2022-12-17T22:12:33.725638Z",
     "iopub.status.idle": "2022-12-17T22:12:33.745158Z",
     "shell.execute_reply": "2022-12-17T22:12:33.743815Z"
    },
    "jupyter": {
     "outputs_hidden": false
    },
    "papermill": {
     "duration": 0.04015,
     "end_time": "2022-12-17T22:12:33.748080",
     "exception": false,
     "start_time": "2022-12-17T22:12:33.707930",
     "status": "completed"
    },
    "tags": []
   },
   "outputs": [
    {
     "data": {
      "text/html": [
       "<div>\n",
       "<style scoped>\n",
       "    .dataframe tbody tr th:only-of-type {\n",
       "        vertical-align: middle;\n",
       "    }\n",
       "\n",
       "    .dataframe tbody tr th {\n",
       "        vertical-align: top;\n",
       "    }\n",
       "\n",
       "    .dataframe thead th {\n",
       "        text-align: right;\n",
       "    }\n",
       "</style>\n",
       "<table border=\"1\" class=\"dataframe\">\n",
       "  <thead>\n",
       "    <tr style=\"text-align: right;\">\n",
       "      <th></th>\n",
       "      <th>credit.policy</th>\n",
       "      <th>purpose</th>\n",
       "      <th>int.rate</th>\n",
       "      <th>installment</th>\n",
       "      <th>log.annual.inc</th>\n",
       "      <th>dti</th>\n",
       "      <th>fico</th>\n",
       "      <th>days.with.cr.line</th>\n",
       "      <th>revol.bal</th>\n",
       "      <th>revol.util</th>\n",
       "      <th>inq.last.6mths</th>\n",
       "      <th>delinq.2yrs</th>\n",
       "      <th>pub.rec</th>\n",
       "      <th>not.fully.paid</th>\n",
       "    </tr>\n",
       "  </thead>\n",
       "  <tbody>\n",
       "    <tr>\n",
       "      <th>0</th>\n",
       "      <td>1</td>\n",
       "      <td>debt_consolidation</td>\n",
       "      <td>0.1189</td>\n",
       "      <td>829.10</td>\n",
       "      <td>11.350407</td>\n",
       "      <td>19.48</td>\n",
       "      <td>737</td>\n",
       "      <td>5639.958333</td>\n",
       "      <td>28854</td>\n",
       "      <td>52.1</td>\n",
       "      <td>0</td>\n",
       "      <td>0</td>\n",
       "      <td>0</td>\n",
       "      <td>0</td>\n",
       "    </tr>\n",
       "    <tr>\n",
       "      <th>1</th>\n",
       "      <td>1</td>\n",
       "      <td>credit_card</td>\n",
       "      <td>0.1071</td>\n",
       "      <td>228.22</td>\n",
       "      <td>11.082143</td>\n",
       "      <td>14.29</td>\n",
       "      <td>707</td>\n",
       "      <td>2760.000000</td>\n",
       "      <td>33623</td>\n",
       "      <td>76.7</td>\n",
       "      <td>0</td>\n",
       "      <td>0</td>\n",
       "      <td>0</td>\n",
       "      <td>0</td>\n",
       "    </tr>\n",
       "    <tr>\n",
       "      <th>2</th>\n",
       "      <td>1</td>\n",
       "      <td>debt_consolidation</td>\n",
       "      <td>0.1357</td>\n",
       "      <td>366.86</td>\n",
       "      <td>10.373491</td>\n",
       "      <td>11.63</td>\n",
       "      <td>682</td>\n",
       "      <td>4710.000000</td>\n",
       "      <td>3511</td>\n",
       "      <td>25.6</td>\n",
       "      <td>1</td>\n",
       "      <td>0</td>\n",
       "      <td>0</td>\n",
       "      <td>0</td>\n",
       "    </tr>\n",
       "    <tr>\n",
       "      <th>3</th>\n",
       "      <td>1</td>\n",
       "      <td>debt_consolidation</td>\n",
       "      <td>0.1008</td>\n",
       "      <td>162.34</td>\n",
       "      <td>11.350407</td>\n",
       "      <td>8.10</td>\n",
       "      <td>712</td>\n",
       "      <td>2699.958333</td>\n",
       "      <td>33667</td>\n",
       "      <td>73.2</td>\n",
       "      <td>1</td>\n",
       "      <td>0</td>\n",
       "      <td>0</td>\n",
       "      <td>0</td>\n",
       "    </tr>\n",
       "    <tr>\n",
       "      <th>4</th>\n",
       "      <td>1</td>\n",
       "      <td>credit_card</td>\n",
       "      <td>0.1426</td>\n",
       "      <td>102.92</td>\n",
       "      <td>11.299732</td>\n",
       "      <td>14.97</td>\n",
       "      <td>667</td>\n",
       "      <td>4066.000000</td>\n",
       "      <td>4740</td>\n",
       "      <td>39.5</td>\n",
       "      <td>0</td>\n",
       "      <td>1</td>\n",
       "      <td>0</td>\n",
       "      <td>0</td>\n",
       "    </tr>\n",
       "  </tbody>\n",
       "</table>\n",
       "</div>"
      ],
      "text/plain": [
       "   credit.policy             purpose  int.rate  installment  log.annual.inc  \\\n",
       "0              1  debt_consolidation    0.1189       829.10       11.350407   \n",
       "1              1         credit_card    0.1071       228.22       11.082143   \n",
       "2              1  debt_consolidation    0.1357       366.86       10.373491   \n",
       "3              1  debt_consolidation    0.1008       162.34       11.350407   \n",
       "4              1         credit_card    0.1426       102.92       11.299732   \n",
       "\n",
       "     dti  fico  days.with.cr.line  revol.bal  revol.util  inq.last.6mths  \\\n",
       "0  19.48   737        5639.958333      28854        52.1               0   \n",
       "1  14.29   707        2760.000000      33623        76.7               0   \n",
       "2  11.63   682        4710.000000       3511        25.6               1   \n",
       "3   8.10   712        2699.958333      33667        73.2               1   \n",
       "4  14.97   667        4066.000000       4740        39.5               0   \n",
       "\n",
       "   delinq.2yrs  pub.rec  not.fully.paid  \n",
       "0            0        0               0  \n",
       "1            0        0               0  \n",
       "2            0        0               0  \n",
       "3            0        0               0  \n",
       "4            1        0               0  "
      ]
     },
     "execution_count": 5,
     "metadata": {},
     "output_type": "execute_result"
    }
   ],
   "source": [
    "loans.head()"
   ]
  },
  {
   "cell_type": "markdown",
   "id": "8131bd89",
   "metadata": {
    "papermill": {
     "duration": 0.011185,
     "end_time": "2022-12-17T22:12:33.770690",
     "exception": false,
     "start_time": "2022-12-17T22:12:33.759505",
     "status": "completed"
    },
    "tags": []
   },
   "source": [
    "# Exploratory Data Analysis\n",
    "\n",
    "Let's do some data visualization! We'll use seaborn and pandas built-in plotting capabilities, but feel free to use whatever library you want. Don't worry about the colors matching, just worry about getting the main idea of the plot.\n",
    "\n",
    "** Create a histogram of two FICO distributions on top of each other, one for each credit.policy outcome.**\n",
    "\n",
    "*Note: This is pretty tricky, feel free to reference the solutions. You'll probably need one line of code for each histogram, I also recommend just using pandas built in .hist()*"
   ]
  },
  {
   "cell_type": "code",
   "execution_count": 6,
   "id": "0f67b577",
   "metadata": {
    "collapsed": false,
    "execution": {
     "iopub.execute_input": "2022-12-17T22:12:33.796110Z",
     "iopub.status.busy": "2022-12-17T22:12:33.795470Z",
     "iopub.status.idle": "2022-12-17T22:12:34.195393Z",
     "shell.execute_reply": "2022-12-17T22:12:34.194078Z"
    },
    "jupyter": {
     "outputs_hidden": false
    },
    "papermill": {
     "duration": 0.41606,
     "end_time": "2022-12-17T22:12:34.198182",
     "exception": false,
     "start_time": "2022-12-17T22:12:33.782122",
     "status": "completed"
    },
    "tags": []
   },
   "outputs": [
    {
     "data": {
      "text/plain": [
       "Text(0, 0.5, 'credit.policy')"
      ]
     },
     "execution_count": 6,
     "metadata": {},
     "output_type": "execute_result"
    },
    {
     "data": {
      "image/png": "[encoded data removed]",
      "text/plain": [
       "<Figure size 432x288 with 1 Axes>"
      ]
     },
     "metadata": {
      "needs_background": "light"
     },
     "output_type": "display_data"
    }
   ],
   "source": [
    "loans[loans['credit.policy']==1]['fico'].hist(bins=35,label='1')\n",
    "loans[loans['credit.policy']==0]['fico'].hist(bins=35,label='0')\n",
    "plt.legend()\n",
    "plt.xlabel('FICO')\n",
    "plt.ylabel('credit.policy')"
   ]
  },
  {
   "cell_type": "code",
   "execution_count": 7,
   "id": "61cbf7e7",
   "metadata": {
    "execution": {
     "iopub.execute_input": "2022-12-17T22:12:34.224890Z",
     "iopub.status.busy": "2022-12-17T22:12:34.224436Z",
     "iopub.status.idle": "2022-12-17T22:12:34.690566Z",
     "shell.execute_reply": "2022-12-17T22:12:34.688660Z"
    },
    "papermill": {
     "duration": 0.482831,
     "end_time": "2022-12-17T22:12:34.693211",
     "exception": false,
     "start_time": "2022-12-17T22:12:34.210380",
     "status": "completed"
    },
    "tags": []
   },
   "outputs": [
    {
     "data": {
      "text/plain": [
       "Text(0, 0.5, 'credit policy')"
      ]
     },
     "execution_count": 7,
     "metadata": {},
     "output_type": "execute_result"
    },
    {
     "data": {
      "image/png": "[encoded data removed]",
      "text/plain": [
       "<Figure size 720x432 with 1 Axes>"
      ]
     },
     "metadata": {
      "needs_background": "light"
     },
     "output_type": "display_data"
    }
   ],
   "source": [
    "plt.figure(figsize=(10,6))\n",
    "plt.hist(loans[loans['credit.policy']==1]['fico'],bins=40,label='credit policy=1')\n",
    "plt.hist(loans[loans['credit.policy']==0]['fico'],bins=40,label='credit policy=0')\n",
    "plt.legend()\n",
    "plt.xlabel('fico')\n",
    "plt.ylabel('credit policy')"
   ]
  },
  {
   "cell_type": "markdown",
   "id": "484621d6",
   "metadata": {
    "papermill": {
     "duration": 0.013459,
     "end_time": "2022-12-17T22:12:34.719499",
     "exception": false,
     "start_time": "2022-12-17T22:12:34.706040",
     "status": "completed"
    },
    "tags": []
   },
   "source": [
    "From the above histograms which we made using pandas's hist function and matplotlib's hist function as well.\n",
    "\n",
    "We see that anyone with a fico score below approximately 650 does not meet credit underwriting criteria."
   ]
  },
  {
   "cell_type": "markdown",
   "id": "e812f2f7",
   "metadata": {
    "papermill": {
     "duration": 0.012295,
     "end_time": "2022-12-17T22:12:34.744178",
     "exception": false,
     "start_time": "2022-12-17T22:12:34.731883",
     "status": "completed"
    },
    "tags": []
   },
   "source": [
    "** Create a similar figure, except this time select by the not.fully.paid column.**"
   ]
  },
  {
   "cell_type": "code",
   "execution_count": 8,
   "id": "f38090ba",
   "metadata": {
    "collapsed": false,
    "execution": {
     "iopub.execute_input": "2022-12-17T22:12:34.774540Z",
     "iopub.status.busy": "2022-12-17T22:12:34.773655Z",
     "iopub.status.idle": "2022-12-17T22:12:35.212187Z",
     "shell.execute_reply": "2022-12-17T22:12:35.211034Z"
    },
    "jupyter": {
     "outputs_hidden": false
    },
    "papermill": {
     "duration": 0.457151,
     "end_time": "2022-12-17T22:12:35.215044",
     "exception": false,
     "start_time": "2022-12-17T22:12:34.757893",
     "status": "completed"
    },
    "tags": []
   },
   "outputs": [
    {
     "data": {
      "text/plain": [
       "Text(0, 0.5, 'not.fully.paid')"
      ]
     },
     "execution_count": 8,
     "metadata": {},
     "output_type": "execute_result"
    },
    {
     "data": {
      "image/png": "[encoded data removed]",
      "text/plain": [
       "<Figure size 720x432 with 1 Axes>"
      ]
     },
     "metadata": {
      "needs_background": "light"
     },
     "output_type": "display_data"
    }
   ],
   "source": [
    "plt.figure(figsize=(10,6))\n",
    "loans[loans['not.fully.paid']==1]['fico'].hist(bins=35,label='1',color='blue')\n",
    "loans[loans['not.fully.paid']==0]['fico'].hist(bins=35,label='0',color='red')\n",
    "plt.legend()\n",
    "plt.xlabel('FICO')\n",
    "plt.ylabel('not.fully.paid')"
   ]
  },
  {
   "cell_type": "markdown",
   "id": "1882e249",
   "metadata": {
    "papermill": {
     "duration": 0.012108,
     "end_time": "2022-12-17T22:12:35.239930",
     "exception": false,
     "start_time": "2022-12-17T22:12:35.227822",
     "status": "completed"
    },
    "tags": []
   },
   "source": [
    "** Create a countplot using seaborn showing the counts of loans by purpose, with the color hue defined by not.fully.paid. **"
   ]
  },
  {
   "cell_type": "code",
   "execution_count": 9,
   "id": "cb51c5d7",
   "metadata": {
    "collapsed": false,
    "execution": {
     "iopub.execute_input": "2022-12-17T22:12:35.267153Z",
     "iopub.status.busy": "2022-12-17T22:12:35.266498Z",
     "iopub.status.idle": "2022-12-17T22:12:35.606394Z",
     "shell.execute_reply": "2022-12-17T22:12:35.605069Z"
    },
    "jupyter": {
     "outputs_hidden": false
    },
    "papermill": {
     "duration": 0.356651,
     "end_time": "2022-12-17T22:12:35.609074",
     "exception": false,
     "start_time": "2022-12-17T22:12:35.252423",
     "status": "completed"
    },
    "tags": []
   },
   "outputs": [
    {
     "data": {
      "text/plain": [
       "<AxesSubplot:xlabel='purpose', ylabel='count'>"
      ]
     },
     "execution_count": 9,
     "metadata": {},
     "output_type": "execute_result"
    },
    {
     "data": {
      "image/png": "[encoded data removed]",
      "text/plain": [
       "<Figure size 1008x504 with 1 Axes>"
      ]
     },
     "metadata": {
      "needs_background": "light"
     },
     "output_type": "display_data"
    }
   ],
   "source": [
    "plt.figure(figsize=(14,7))\n",
    "sns.countplot(data=loans,x='purpose',hue='not.fully.paid')"
   ]
  },
  {
   "cell_type": "markdown",
   "id": "336e174a",
   "metadata": {
    "papermill": {
     "duration": 0.012568,
     "end_time": "2022-12-17T22:12:35.635284",
     "exception": false,
     "start_time": "2022-12-17T22:12:35.622716",
     "status": "completed"
    },
    "tags": []
   },
   "source": [
    "From the above countplot, we see that debt consolidation is the main cause of borrowing money and the same set of people have not paid their loans back.\n",
    "\n",
    "Ratio of loans fully paid and not paid is quite same for all purposes"
   ]
  },
  {
   "cell_type": "markdown",
   "id": "855aa433",
   "metadata": {
    "papermill": {
     "duration": 0.017312,
     "end_time": "2022-12-17T22:12:35.666089",
     "exception": false,
     "start_time": "2022-12-17T22:12:35.648777",
     "status": "completed"
    },
    "tags": []
   },
   "source": [
    "** Let's see the trend between FICO score and interest rate. Recreate the following jointplot.**"
   ]
  },
  {
   "cell_type": "code",
   "execution_count": 10,
   "id": "eb3278d5",
   "metadata": {
    "collapsed": false,
    "execution": {
     "iopub.execute_input": "2022-12-17T22:12:35.705098Z",
     "iopub.status.busy": "2022-12-17T22:12:35.704258Z",
     "iopub.status.idle": "2022-12-17T22:12:36.542531Z",
     "shell.execute_reply": "2022-12-17T22:12:36.541405Z"
    },
    "jupyter": {
     "outputs_hidden": false
    },
    "papermill": {
     "duration": 0.861179,
     "end_time": "2022-12-17T22:12:36.545178",
     "exception": false,
     "start_time": "2022-12-17T22:12:35.683999",
     "status": "completed"
    },
    "tags": []
   },
   "outputs": [
    {
     "data": {
      "text/plain": [
       "<seaborn.axisgrid.JointGrid at 0x7f7d0513a9d0>"
      ]
     },
     "execution_count": 10,
     "metadata": {},
     "output_type": "execute_result"
    },
    {
     "data": {
      "image/png": "[encoded data removed]",
      "text/plain": [
       "<Figure size 432x432 with 3 Axes>"
      ]
     },
     "metadata": {
      "needs_background": "light"
     },
     "output_type": "display_data"
    }
   ],
   "source": [
    "sns.jointplot(x='fico',y='int.rate',data=loans,color='blue')"
   ]
  },
  {
   "cell_type": "markdown",
   "id": "0aacb958",
   "metadata": {
    "papermill": {
     "duration": 0.013513,
     "end_time": "2022-12-17T22:12:36.573203",
     "exception": false,
     "start_time": "2022-12-17T22:12:36.559690",
     "status": "completed"
    },
    "tags": []
   },
   "source": [
    "From the above jointplot, as fico rating increases, interest rate naturally decreases and when fico rating is low,\n",
    "we see that the rates are higher because the points are all clustered near higher interest rates."
   ]
  },
  {
   "cell_type": "markdown",
   "id": "27c694ee",
   "metadata": {
    "papermill": {
     "duration": 0.013402,
     "end_time": "2022-12-17T22:12:36.600349",
     "exception": false,
     "start_time": "2022-12-17T22:12:36.586947",
     "status": "completed"
    },
    "tags": []
   },
   "source": [
    "** Create the following lmplots to see if the trend differed between not.fully.paid and credit.policy. Check the documentation for lmplot() if you can't figure out how to separate it into columns.**"
   ]
  },
  {
   "cell_type": "code",
   "execution_count": 11,
   "id": "0334c3af",
   "metadata": {
    "collapsed": false,
    "execution": {
     "iopub.execute_input": "2022-12-17T22:12:36.630585Z",
     "iopub.status.busy": "2022-12-17T22:12:36.629656Z",
     "iopub.status.idle": "2022-12-17T22:12:38.487128Z",
     "shell.execute_reply": "2022-12-17T22:12:38.485784Z"
    },
    "jupyter": {
     "outputs_hidden": false
    },
    "papermill": {
     "duration": 1.875793,
     "end_time": "2022-12-17T22:12:38.490007",
     "exception": false,
     "start_time": "2022-12-17T22:12:36.614214",
     "status": "completed"
    },
    "tags": []
   },
   "outputs": [
    {
     "data": {
      "text/plain": [
       "<seaborn.axisgrid.FacetGrid at 0x7f7d04c16e10>"
      ]
     },
     "execution_count": 11,
     "metadata": {},
     "output_type": "execute_result"
    },
    {
     "data": {
      "image/png": "[encoded data removed]",
      "text/plain": [
       "<Figure size 789.25x360 with 2 Axes>"
      ]
     },
     "metadata": {
      "needs_background": "light"
     },
     "output_type": "display_data"
    }
   ],
   "source": [
    "sns.lmplot(data=loans,x='fico',y='int.rate',hue='credit.policy',col='not.fully.paid')"
   ]
  },
  {
   "cell_type": "markdown",
   "id": "46bd97d3",
   "metadata": {
    "papermill": {
     "duration": 0.01541,
     "end_time": "2022-12-17T22:12:38.521320",
     "exception": false,
     "start_time": "2022-12-17T22:12:38.505910",
     "status": "completed"
    },
    "tags": []
   },
   "source": [
    "We see that the relations between fico and interest rate are quite the same for both the groups of people who had fully paid back their loan and who hadn't."
   ]
  },
  {
   "cell_type": "markdown",
   "id": "519fc03c",
   "metadata": {
    "papermill": {
     "duration": 0.015796,
     "end_time": "2022-12-17T22:12:38.552996",
     "exception": false,
     "start_time": "2022-12-17T22:12:38.537200",
     "status": "completed"
    },
    "tags": []
   },
   "source": [
    "# Setting up the Data\n",
    "\n",
    "Let's get ready to set up our data for our Random Forest Classification Model!\n",
    "\n",
    "**Check loans.info() again.**"
   ]
  },
  {
   "cell_type": "code",
   "execution_count": 12,
   "id": "5c9358bf",
   "metadata": {
    "collapsed": false,
    "execution": {
     "iopub.execute_input": "2022-12-17T22:12:38.586533Z",
     "iopub.status.busy": "2022-12-17T22:12:38.585804Z",
     "iopub.status.idle": "2022-12-17T22:12:38.599341Z",
     "shell.execute_reply": "2022-12-17T22:12:38.597469Z"
    },
    "jupyter": {
     "outputs_hidden": false
    },
    "papermill": {
     "duration": 0.033431,
     "end_time": "2022-12-17T22:12:38.602050",
     "exception": false,
     "start_time": "2022-12-17T22:12:38.568619",
     "status": "completed"
    },
    "tags": []
   },
   "outputs": [
    {
     "name": "stdout",
     "output_type": "stream",
     "text": [
      "<class 'pandas.core.frame.DataFrame'>\n",
      "RangeIndex: 9578 entries, 0 to 9577\n",
      "Data columns (total 14 columns):\n",
      " #   Column             Non-Null Count  Dtype  \n",
      "---  ------             --------------  -----  \n",
      " 0   credit.policy      9578 non-null   int64  \n",
      " 1   purpose            9578 non-null   object \n",
      " 2   int.rate           9578 non-null   float64\n",
      " 3   installment        9578 non-null   float64\n",
      " 4   log.annual.inc     9578 non-null   float64\n",
      " 5   dti                9578 non-null   float64\n",
      " 6   fico               9578 non-null   int64  \n",
      " 7   days.with.cr.line  9578 non-null   float64\n",
      " 8   revol.bal          9578 non-null   int64  \n",
      " 9   revol.util         9578 non-null   float64\n",
      " 10  inq.last.6mths     9578 non-null   int64  \n",
      " 11  delinq.2yrs        9578 non-null   int64  \n",
      " 12  pub.rec            9578 non-null   int64  \n",
      " 13  not.fully.paid     9578 non-null   int64  \n",
      "dtypes: float64(6), int64(7), object(1)\n",
      "memory usage: 1.0+ MB\n"
     ]
    }
   ],
   "source": [
    "loans.info()"
   ]
  },
  {
   "cell_type": "markdown",
   "id": "223a7911",
   "metadata": {
    "papermill": {
     "duration": 0.015454,
     "end_time": "2022-12-17T22:12:38.633719",
     "exception": false,
     "start_time": "2022-12-17T22:12:38.618265",
     "status": "completed"
    },
    "tags": []
   },
   "source": [
    "## Categorical Features\n",
    "\n",
    "Notice that the **purpose** column as categorical\n",
    "\n",
    "That means we need to transform them using dummy variables so sklearn will be able to understand them. Let's do this in one clean step using pd.get_dummies.\n",
    "\n",
    "Let's show you a way of dealing with these columns that can be expanded to multiple categorical features if necessary.\n",
    "\n",
    "**Create a list of 1 element containing the string 'purpose'. Call this list cat_feats.**"
   ]
  },
  {
   "cell_type": "code",
   "execution_count": 13,
   "id": "681824f5",
   "metadata": {
    "execution": {
     "iopub.execute_input": "2022-12-17T22:12:38.667249Z",
     "iopub.status.busy": "2022-12-17T22:12:38.666857Z",
     "iopub.status.idle": "2022-12-17T22:12:38.671942Z",
     "shell.execute_reply": "2022-12-17T22:12:38.670822Z"
    },
    "papermill": {
     "duration": 0.024524,
     "end_time": "2022-12-17T22:12:38.674233",
     "exception": false,
     "start_time": "2022-12-17T22:12:38.649709",
     "status": "completed"
    },
    "tags": []
   },
   "outputs": [],
   "source": [
    "cat_feats=['purpose']"
   ]
  },
  {
   "cell_type": "markdown",
   "id": "aee27ff9",
   "metadata": {
    "papermill": {
     "duration": 0.015422,
     "end_time": "2022-12-17T22:12:38.705325",
     "exception": false,
     "start_time": "2022-12-17T22:12:38.689903",
     "status": "completed"
    },
    "tags": []
   },
   "source": [
    "**Now use pd.get_dummies(loans,columns=cat_feats,drop_first=True) to create a fixed larger dataframe that has new feature columns with dummy variables. Set this dataframe as final_data.**"
   ]
  },
  {
   "cell_type": "code",
   "execution_count": 14,
   "id": "30943a90",
   "metadata": {
    "collapsed": false,
    "execution": {
     "iopub.execute_input": "2022-12-17T22:12:38.739712Z",
     "iopub.status.busy": "2022-12-17T22:12:38.739029Z",
     "iopub.status.idle": "2022-12-17T22:12:38.749097Z",
     "shell.execute_reply": "2022-12-17T22:12:38.748230Z"
    },
    "jupyter": {
     "outputs_hidden": false
    },
    "papermill": {
     "duration": 0.030077,
     "end_time": "2022-12-17T22:12:38.751587",
     "exception": false,
     "start_time": "2022-12-17T22:12:38.721510",
     "status": "completed"
    },
    "tags": []
   },
   "outputs": [],
   "source": [
    "final_data=pd.get_dummies(loans,columns=cat_feats,drop_first=True)"
   ]
  },
  {
   "cell_type": "code",
   "execution_count": 15,
   "id": "2569fddc",
   "metadata": {
    "collapsed": false,
    "execution": {
     "iopub.execute_input": "2022-12-17T22:12:38.785368Z",
     "iopub.status.busy": "2022-12-17T22:12:38.784762Z",
     "iopub.status.idle": "2022-12-17T22:12:38.808557Z",
     "shell.execute_reply": "2022-12-17T22:12:38.807374Z"
    },
    "jupyter": {
     "outputs_hidden": false
    },
    "papermill": {
     "duration": 0.043626,
     "end_time": "2022-12-17T22:12:38.810983",
     "exception": false,
     "start_time": "2022-12-17T22:12:38.767357",
     "status": "completed"
    },
    "tags": []
   },
   "outputs": [
    {
     "data": {
      "text/html": [
       "<div>\n",
       "<style scoped>\n",
       "    .dataframe tbody tr th:only-of-type {\n",
       "        vertical-align: middle;\n",
       "    }\n",
       "\n",
       "    .dataframe tbody tr th {\n",
       "        vertical-align: top;\n",
       "    }\n",
       "\n",
       "    .dataframe thead th {\n",
       "        text-align: right;\n",
       "    }\n",
       "</style>\n",
       "<table border=\"1\" class=\"dataframe\">\n",
       "  <thead>\n",
       "    <tr style=\"text-align: right;\">\n",
       "      <th></th>\n",
       "      <th>credit.policy</th>\n",
       "      <th>int.rate</th>\n",
       "      <th>installment</th>\n",
       "      <th>log.annual.inc</th>\n",
       "      <th>dti</th>\n",
       "      <th>fico</th>\n",
       "      <th>days.with.cr.line</th>\n",
       "      <th>revol.bal</th>\n",
       "      <th>revol.util</th>\n",
       "      <th>inq.last.6mths</th>\n",
       "      <th>delinq.2yrs</th>\n",
       "      <th>pub.rec</th>\n",
       "      <th>not.fully.paid</th>\n",
       "      <th>purpose_credit_card</th>\n",
       "      <th>purpose_debt_consolidation</th>\n",
       "      <th>purpose_educational</th>\n",
       "      <th>purpose_home_improvement</th>\n",
       "      <th>purpose_major_purchase</th>\n",
       "      <th>purpose_small_business</th>\n",
       "    </tr>\n",
       "  </thead>\n",
       "  <tbody>\n",
       "    <tr>\n",
       "      <th>0</th>\n",
       "      <td>1</td>\n",
       "      <td>0.1189</td>\n",
       "      <td>829.10</td>\n",
       "      <td>11.350407</td>\n",
       "      <td>19.48</td>\n",
       "      <td>737</td>\n",
       "      <td>5639.958333</td>\n",
       "      <td>28854</td>\n",
       "      <td>52.1</td>\n",
       "      <td>0</td>\n",
       "      <td>0</td>\n",
       "      <td>0</td>\n",
       "      <td>0</td>\n",
       "      <td>0</td>\n",
       "      <td>1</td>\n",
       "      <td>0</td>\n",
       "      <td>0</td>\n",
       "      <td>0</td>\n",
       "      <td>0</td>\n",
       "    </tr>\n",
       "    <tr>\n",
       "      <th>1</th>\n",
       "      <td>1</td>\n",
       "      <td>0.1071</td>\n",
       "      <td>228.22</td>\n",
       "      <td>11.082143</td>\n",
       "      <td>14.29</td>\n",
       "      <td>707</td>\n",
       "      <td>2760.000000</td>\n",
       "      <td>33623</td>\n",
       "      <td>76.7</td>\n",
       "      <td>0</td>\n",
       "      <td>0</td>\n",
       "      <td>0</td>\n",
       "      <td>0</td>\n",
       "      <td>1</td>\n",
       "      <td>0</td>\n",
       "      <td>0</td>\n",
       "      <td>0</td>\n",
       "      <td>0</td>\n",
       "      <td>0</td>\n",
       "    </tr>\n",
       "    <tr>\n",
       "      <th>2</th>\n",
       "      <td>1</td>\n",
       "      <td>0.1357</td>\n",
       "      <td>366.86</td>\n",
       "      <td>10.373491</td>\n",
       "      <td>11.63</td>\n",
       "      <td>682</td>\n",
       "      <td>4710.000000</td>\n",
       "      <td>3511</td>\n",
       "      <td>25.6</td>\n",
       "      <td>1</td>\n",
       "      <td>0</td>\n",
       "      <td>0</td>\n",
       "      <td>0</td>\n",
       "      <td>0</td>\n",
       "      <td>1</td>\n",
       "      <td>0</td>\n",
       "      <td>0</td>\n",
       "      <td>0</td>\n",
       "      <td>0</td>\n",
       "    </tr>\n",
       "    <tr>\n",
       "      <th>3</th>\n",
       "      <td>1</td>\n",
       "      <td>0.1008</td>\n",
       "      <td>162.34</td>\n",
       "      <td>11.350407</td>\n",
       "      <td>8.10</td>\n",
       "      <td>712</td>\n",
       "      <td>2699.958333</td>\n",
       "      <td>33667</td>\n",
       "      <td>73.2</td>\n",
       "      <td>1</td>\n",
       "      <td>0</td>\n",
       "      <td>0</td>\n",
       "      <td>0</td>\n",
       "      <td>0</td>\n",
       "      <td>1</td>\n",
       "      <td>0</td>\n",
       "      <td>0</td>\n",
       "      <td>0</td>\n",
       "      <td>0</td>\n",
       "    </tr>\n",
       "    <tr>\n",
       "      <th>4</th>\n",
       "      <td>1</td>\n",
       "      <td>0.1426</td>\n",
       "      <td>102.92</td>\n",
       "      <td>11.299732</td>\n",
       "      <td>14.97</td>\n",
       "      <td>667</td>\n",
       "      <td>4066.000000</td>\n",
       "      <td>4740</td>\n",
       "      <td>39.5</td>\n",
       "      <td>0</td>\n",
       "      <td>1</td>\n",
       "      <td>0</td>\n",
       "      <td>0</td>\n",
       "      <td>1</td>\n",
       "      <td>0</td>\n",
       "      <td>0</td>\n",
       "      <td>0</td>\n",
       "      <td>0</td>\n",
       "      <td>0</td>\n",
       "    </tr>\n",
       "    <tr>\n",
       "      <th>...</th>\n",
       "      <td>...</td>\n",
       "      <td>...</td>\n",
       "      <td>...</td>\n",
       "      <td>...</td>\n",
       "      <td>...</td>\n",
       "      <td>...</td>\n",
       "      <td>...</td>\n",
       "      <td>...</td>\n",
       "      <td>...</td>\n",
       "      <td>...</td>\n",
       "      <td>...</td>\n",
       "      <td>...</td>\n",
       "      <td>...</td>\n",
       "      <td>...</td>\n",
       "      <td>...</td>\n",
       "      <td>...</td>\n",
       "      <td>...</td>\n",
       "      <td>...</td>\n",
       "      <td>...</td>\n",
       "    </tr>\n",
       "    <tr>\n",
       "      <th>9573</th>\n",
       "      <td>0</td>\n",
       "      <td>0.1461</td>\n",
       "      <td>344.76</td>\n",
       "      <td>12.180755</td>\n",
       "      <td>10.39</td>\n",
       "      <td>672</td>\n",
       "      <td>10474.000000</td>\n",
       "      <td>215372</td>\n",
       "      <td>82.1</td>\n",
       "      <td>2</td>\n",
       "      <td>0</td>\n",
       "      <td>0</td>\n",
       "      <td>1</td>\n",
       "      <td>0</td>\n",
       "      <td>0</td>\n",
       "      <td>0</td>\n",
       "      <td>0</td>\n",
       "      <td>0</td>\n",
       "      <td>0</td>\n",
       "    </tr>\n",
       "    <tr>\n",
       "      <th>9574</th>\n",
       "      <td>0</td>\n",
       "      <td>0.1253</td>\n",
       "      <td>257.70</td>\n",
       "      <td>11.141862</td>\n",
       "      <td>0.21</td>\n",
       "      <td>722</td>\n",
       "      <td>4380.000000</td>\n",
       "      <td>184</td>\n",
       "      <td>1.1</td>\n",
       "      <td>5</td>\n",
       "      <td>0</td>\n",
       "      <td>0</td>\n",
       "      <td>1</td>\n",
       "      <td>0</td>\n",
       "      <td>0</td>\n",
       "      <td>0</td>\n",
       "      <td>0</td>\n",
       "      <td>0</td>\n",
       "      <td>0</td>\n",
       "    </tr>\n",
       "    <tr>\n",
       "      <th>9575</th>\n",
       "      <td>0</td>\n",
       "      <td>0.1071</td>\n",
       "      <td>97.81</td>\n",
       "      <td>10.596635</td>\n",
       "      <td>13.09</td>\n",
       "      <td>687</td>\n",
       "      <td>3450.041667</td>\n",
       "      <td>10036</td>\n",
       "      <td>82.9</td>\n",
       "      <td>8</td>\n",
       "      <td>0</td>\n",
       "      <td>0</td>\n",
       "      <td>1</td>\n",
       "      <td>0</td>\n",
       "      <td>1</td>\n",
       "      <td>0</td>\n",
       "      <td>0</td>\n",
       "      <td>0</td>\n",
       "      <td>0</td>\n",
       "    </tr>\n",
       "    <tr>\n",
       "      <th>9576</th>\n",
       "      <td>0</td>\n",
       "      <td>0.1600</td>\n",
       "      <td>351.58</td>\n",
       "      <td>10.819778</td>\n",
       "      <td>19.18</td>\n",
       "      <td>692</td>\n",
       "      <td>1800.000000</td>\n",
       "      <td>0</td>\n",
       "      <td>3.2</td>\n",
       "      <td>5</td>\n",
       "      <td>0</td>\n",
       "      <td>0</td>\n",
       "      <td>1</td>\n",
       "      <td>0</td>\n",
       "      <td>0</td>\n",
       "      <td>0</td>\n",
       "      <td>1</td>\n",
       "      <td>0</td>\n",
       "      <td>0</td>\n",
       "    </tr>\n",
       "    <tr>\n",
       "      <th>9577</th>\n",
       "      <td>0</td>\n",
       "      <td>0.1392</td>\n",
       "      <td>853.43</td>\n",
       "      <td>11.264464</td>\n",
       "      <td>16.28</td>\n",
       "      <td>732</td>\n",
       "      <td>4740.000000</td>\n",
       "      <td>37879</td>\n",
       "      <td>57.0</td>\n",
       "      <td>6</td>\n",
       "      <td>0</td>\n",
       "      <td>0</td>\n",
       "      <td>1</td>\n",
       "      <td>0</td>\n",
       "      <td>1</td>\n",
       "      <td>0</td>\n",
       "      <td>0</td>\n",
       "      <td>0</td>\n",
       "      <td>0</td>\n",
       "    </tr>\n",
       "  </tbody>\n",
       "</table>\n",
       "<p>9578 rows × 19 columns</p>\n",
       "</div>"
      ],
      "text/plain": [
       "      credit.policy  int.rate  installment  log.annual.inc    dti  fico  \\\n",
       "0                 1    0.1189       829.10       11.350407  19.48   737   \n",
       "1                 1    0.1071       228.22       11.082143  14.29   707   \n",
       "2                 1    0.1357       366.86       10.373491  11.63   682   \n",
       "3                 1    0.1008       162.34       11.350407   8.10   712   \n",
       "4                 1    0.1426       102.92       11.299732  14.97   667   \n",
       "...             ...       ...          ...             ...    ...   ...   \n",
       "9573              0    0.1461       344.76       12.180755  10.39   672   \n",
       "9574              0    0.1253       257.70       11.141862   0.21   722   \n",
       "9575              0    0.1071        97.81       10.596635  13.09   687   \n",
       "9576              0    0.1600       351.58       10.819778  19.18   692   \n",
       "9577              0    0.1392       853.43       11.264464  16.28   732   \n",
       "\n",
       "      days.with.cr.line  revol.bal  revol.util  inq.last.6mths  delinq.2yrs  \\\n",
       "0           5639.958333      28854        52.1               0            0   \n",
       "1           2760.000000      33623        76.7               0            0   \n",
       "2           4710.000000       3511        25.6               1            0   \n",
       "3           2699.958333      33667        73.2               1            0   \n",
       "4           4066.000000       4740        39.5               0            1   \n",
       "...                 ...        ...         ...             ...          ...   \n",
       "9573       10474.000000     215372        82.1               2            0   \n",
       "9574        4380.000000        184         1.1               5            0   \n",
       "9575        3450.041667      10036        82.9               8            0   \n",
       "9576        1800.000000          0         3.2               5            0   \n",
       "9577        4740.000000      37879        57.0               6            0   \n",
       "\n",
       "      pub.rec  not.fully.paid  purpose_credit_card  \\\n",
       "0           0               0                    0   \n",
       "1           0               0                    1   \n",
       "2           0               0                    0   \n",
       "3           0               0                    0   \n",
       "4           0               0                    1   \n",
       "...       ...             ...                  ...   \n",
       "9573        0               1                    0   \n",
       "9574        0               1                    0   \n",
       "9575        0               1                    0   \n",
       "9576        0               1                    0   \n",
       "9577        0               1                    0   \n",
       "\n",
       "      purpose_debt_consolidation  purpose_educational  \\\n",
       "0                              1                    0   \n",
       "1                              0                    0   \n",
       "2                              1                    0   \n",
       "3                              1                    0   \n",
       "4                              0                    0   \n",
       "...                          ...                  ...   \n",
       "9573                           0                    0   \n",
       "9574                           0                    0   \n",
       "9575                           1                    0   \n",
       "9576                           0                    0   \n",
       "9577                           1                    0   \n",
       "\n",
       "      purpose_home_improvement  purpose_major_purchase  purpose_small_business  \n",
       "0                            0                       0                       0  \n",
       "1                            0                       0                       0  \n",
       "2                            0                       0                       0  \n",
       "3                            0                       0                       0  \n",
       "4                            0                       0                       0  \n",
       "...                        ...                     ...                     ...  \n",
       "9573                         0                       0                       0  \n",
       "9574                         0                       0                       0  \n",
       "9575                         0                       0                       0  \n",
       "9576                         1                       0                       0  \n",
       "9577                         0                       0                       0  \n",
       "\n",
       "[9578 rows x 19 columns]"
      ]
     },
     "execution_count": 15,
     "metadata": {},
     "output_type": "execute_result"
    }
   ],
   "source": [
    "final_data"
   ]
  },
  {
   "cell_type": "markdown",
   "id": "8115f18a",
   "metadata": {
    "papermill": {
     "duration": 0.01669,
     "end_time": "2022-12-17T22:12:38.844629",
     "exception": false,
     "start_time": "2022-12-17T22:12:38.827939",
     "status": "completed"
    },
    "tags": []
   },
   "source": [
    "## Train Test Split\n",
    "\n",
    "Now its time to split our data into a training set and a testing set!\n",
    "\n",
    "** Use sklearn to split your data into a training set and a testing set as we've done in the past.**"
   ]
  },
  {
   "cell_type": "code",
   "execution_count": 16,
   "id": "c01e608a",
   "metadata": {
    "execution": {
     "iopub.execute_input": "2022-12-17T22:12:38.880103Z",
     "iopub.status.busy": "2022-12-17T22:12:38.879410Z",
     "iopub.status.idle": "2022-12-17T22:12:39.056309Z",
     "shell.execute_reply": "2022-12-17T22:12:39.054624Z"
    },
    "papermill": {
     "duration": 0.198029,
     "end_time": "2022-12-17T22:12:39.059341",
     "exception": false,
     "start_time": "2022-12-17T22:12:38.861312",
     "status": "completed"
    },
    "tags": []
   },
   "outputs": [],
   "source": [
    "from sklearn.model_selection import train_test_split\n",
    "X=final_data.drop('not.fully.paid',axis=1)\n",
    "y=final_data['not.fully.paid']\n",
    "X_train,X_test,y_train,y_test=train_test_split(X,y,test_size=0.30,random_state=101)"
   ]
  },
  {
   "cell_type": "code",
   "execution_count": 17,
   "id": "b977acf2",
   "metadata": {
    "execution": {
     "iopub.execute_input": "2022-12-17T22:12:39.095247Z",
     "iopub.status.busy": "2022-12-17T22:12:39.094589Z",
     "iopub.status.idle": "2022-12-17T22:12:39.109133Z",
     "shell.execute_reply": "2022-12-17T22:12:39.107504Z"
    },
    "papermill": {
     "duration": 0.036331,
     "end_time": "2022-12-17T22:12:39.111965",
     "exception": false,
     "start_time": "2022-12-17T22:12:39.075634",
     "status": "completed"
    },
    "tags": []
   },
   "outputs": [
    {
     "name": "stdout",
     "output_type": "stream",
     "text": [
      "<class 'pandas.core.frame.DataFrame'>\n",
      "RangeIndex: 9578 entries, 0 to 9577\n",
      "Data columns (total 19 columns):\n",
      " #   Column                      Non-Null Count  Dtype  \n",
      "---  ------                      --------------  -----  \n",
      " 0   credit.policy               9578 non-null   int64  \n",
      " 1   int.rate                    9578 non-null   float64\n",
      " 2   installment                 9578 non-null   float64\n",
      " 3   log.annual.inc              9578 non-null   float64\n",
      " 4   dti                         9578 non-null   float64\n",
      " 5   fico                        9578 non-null   int64  \n",
      " 6   days.with.cr.line           9578 non-null   float64\n",
      " 7   revol.bal                   9578 non-null   int64  \n",
      " 8   revol.util                  9578 non-null   float64\n",
      " 9   inq.last.6mths              9578 non-null   int64  \n",
      " 10  delinq.2yrs                 9578 non-null   int64  \n",
      " 11  pub.rec                     9578 non-null   int64  \n",
      " 12  not.fully.paid              9578 non-null   int64  \n",
      " 13  purpose_credit_card         9578 non-null   uint8  \n",
      " 14  purpose_debt_consolidation  9578 non-null   uint8  \n",
      " 15  purpose_educational         9578 non-null   uint8  \n",
      " 16  purpose_home_improvement    9578 non-null   uint8  \n",
      " 17  purpose_major_purchase      9578 non-null   uint8  \n",
      " 18  purpose_small_business      9578 non-null   uint8  \n",
      "dtypes: float64(6), int64(7), uint8(6)\n",
      "memory usage: 1.0 MB\n"
     ]
    }
   ],
   "source": [
    "final_data.info()"
   ]
  },
  {
   "cell_type": "markdown",
   "id": "511534c2",
   "metadata": {
    "papermill": {
     "duration": 0.015997,
     "end_time": "2022-12-17T22:12:39.144907",
     "exception": false,
     "start_time": "2022-12-17T22:12:39.128910",
     "status": "completed"
    },
    "tags": []
   },
   "source": [
    "## Training a Decision Tree Model\n",
    "\n",
    "Let's start by training a single decision tree first!\n",
    "\n",
    "** Import DecisionTreeClassifier**"
   ]
  },
  {
   "cell_type": "code",
   "execution_count": 18,
   "id": "2eedc836",
   "metadata": {
    "execution": {
     "iopub.execute_input": "2022-12-17T22:12:39.179269Z",
     "iopub.status.busy": "2022-12-17T22:12:39.178855Z",
     "iopub.status.idle": "2022-12-17T22:12:39.459514Z",
     "shell.execute_reply": "2022-12-17T22:12:39.458323Z"
    },
    "papermill": {
     "duration": 0.3009,
     "end_time": "2022-12-17T22:12:39.462163",
     "exception": false,
     "start_time": "2022-12-17T22:12:39.161263",
     "status": "completed"
    },
    "tags": []
   },
   "outputs": [],
   "source": [
    "from sklearn.tree import DecisionTreeClassifier"
   ]
  },
  {
   "cell_type": "markdown",
   "id": "00f4d3aa",
   "metadata": {
    "papermill": {
     "duration": 0.016295,
     "end_time": "2022-12-17T22:12:39.495015",
     "exception": false,
     "start_time": "2022-12-17T22:12:39.478720",
     "status": "completed"
    },
    "tags": []
   },
   "source": [
    "**Create an instance of DecisionTreeClassifier() called dtree and fit it to the training data.**"
   ]
  },
  {
   "cell_type": "code",
   "execution_count": 19,
   "id": "c27c5241",
   "metadata": {
    "execution": {
     "iopub.execute_input": "2022-12-17T22:12:39.530787Z",
     "iopub.status.busy": "2022-12-17T22:12:39.530126Z",
     "iopub.status.idle": "2022-12-17T22:12:39.626460Z",
     "shell.execute_reply": "2022-12-17T22:12:39.625348Z"
    },
    "papermill": {
     "duration": 0.117099,
     "end_time": "2022-12-17T22:12:39.628917",
     "exception": false,
     "start_time": "2022-12-17T22:12:39.511818",
     "status": "completed"
    },
    "tags": []
   },
   "outputs": [
    {
     "data": {
      "text/plain": [
       "DecisionTreeClassifier()"
      ]
     },
     "execution_count": 19,
     "metadata": {},
     "output_type": "execute_result"
    }
   ],
   "source": [
    "dtree=DecisionTreeClassifier()\n",
    "dtree.fit(X_train,y_train)\n"
   ]
  },
  {
   "cell_type": "markdown",
   "id": "662c1f86",
   "metadata": {
    "papermill": {
     "duration": 0.016342,
     "end_time": "2022-12-17T22:12:39.662048",
     "exception": false,
     "start_time": "2022-12-17T22:12:39.645706",
     "status": "completed"
    },
    "tags": []
   },
   "source": [
    "## Predictions and Evaluation of Decision Tree\n",
    "**Create predictions from the test set and create a classification report and a confusion matrix.**"
   ]
  },
  {
   "cell_type": "code",
   "execution_count": 20,
   "id": "5fdbc53c",
   "metadata": {
    "execution": {
     "iopub.execute_input": "2022-12-17T22:12:39.698617Z",
     "iopub.status.busy": "2022-12-17T22:12:39.697422Z",
     "iopub.status.idle": "2022-12-17T22:12:39.705690Z",
     "shell.execute_reply": "2022-12-17T22:12:39.704873Z"
    },
    "papermill": {
     "duration": 0.029003,
     "end_time": "2022-12-17T22:12:39.707998",
     "exception": false,
     "start_time": "2022-12-17T22:12:39.678995",
     "status": "completed"
    },
    "tags": []
   },
   "outputs": [],
   "source": [
    "predictions=dtree.predict(X_test)"
   ]
  },
  {
   "cell_type": "code",
   "execution_count": 21,
   "id": "0e86101c",
   "metadata": {
    "execution": {
     "iopub.execute_input": "2022-12-17T22:12:39.743857Z",
     "iopub.status.busy": "2022-12-17T22:12:39.743394Z",
     "iopub.status.idle": "2022-12-17T22:12:39.750497Z",
     "shell.execute_reply": "2022-12-17T22:12:39.749387Z"
    },
    "papermill": {
     "duration": 0.027596,
     "end_time": "2022-12-17T22:12:39.752808",
     "exception": false,
     "start_time": "2022-12-17T22:12:39.725212",
     "status": "completed"
    },
    "tags": []
   },
   "outputs": [
    {
     "data": {
      "text/plain": [
       "array([0, 1, 0, ..., 0, 0, 0])"
      ]
     },
     "execution_count": 21,
     "metadata": {},
     "output_type": "execute_result"
    }
   ],
   "source": [
    "predictions"
   ]
  },
  {
   "cell_type": "code",
   "execution_count": 22,
   "id": "810f9cb7",
   "metadata": {
    "collapsed": false,
    "execution": {
     "iopub.execute_input": "2022-12-17T22:12:39.788528Z",
     "iopub.status.busy": "2022-12-17T22:12:39.787731Z",
     "iopub.status.idle": "2022-12-17T22:12:39.806283Z",
     "shell.execute_reply": "2022-12-17T22:12:39.804993Z"
    },
    "jupyter": {
     "outputs_hidden": false
    },
    "papermill": {
     "duration": 0.039046,
     "end_time": "2022-12-17T22:12:39.808695",
     "exception": false,
     "start_time": "2022-12-17T22:12:39.769649",
     "status": "completed"
    },
    "tags": []
   },
   "outputs": [
    {
     "name": "stdout",
     "output_type": "stream",
     "text": [
      "              precision    recall  f1-score   support\n",
      "\n",
      "           0       0.82      0.85      0.84      2330\n",
      "           1       0.24      0.19      0.21       544\n",
      "\n",
      "    accuracy                           0.73      2874\n",
      "   macro avg       0.53      0.52      0.52      2874\n",
      "weighted avg       0.71      0.73      0.72      2874\n",
      "\n",
      "\n",
      "\n",
      "[[1992  338]\n",
      " [ 439  105]]\n"
     ]
    }
   ],
   "source": [
    "from sklearn.metrics import classification_report,confusion_matrix\n",
    "print(classification_report(predictions,y_test))\n",
    "print('\\n')\n",
    "print(confusion_matrix(predictions,y_test))"
   ]
  },
  {
   "cell_type": "markdown",
   "id": "553b8fd1",
   "metadata": {
    "papermill": {
     "duration": 0.016285,
     "end_time": "2022-12-17T22:12:39.841635",
     "exception": false,
     "start_time": "2022-12-17T22:12:39.825350",
     "status": "completed"
    },
    "tags": []
   },
   "source": [
    "## Training the Random Forest model\n",
    "\n",
    "Now its time to train our model!\n",
    "\n",
    "**Create an instance of the RandomForestClassifier class and fit it to our training data from the previous step.**"
   ]
  },
  {
   "cell_type": "code",
   "execution_count": 23,
   "id": "18dbca34",
   "metadata": {
    "execution": {
     "iopub.execute_input": "2022-12-17T22:12:39.876773Z",
     "iopub.status.busy": "2022-12-17T22:12:39.876349Z",
     "iopub.status.idle": "2022-12-17T22:12:39.933896Z",
     "shell.execute_reply": "2022-12-17T22:12:39.932931Z"
    },
    "papermill": {
     "duration": 0.078365,
     "end_time": "2022-12-17T22:12:39.936589",
     "exception": false,
     "start_time": "2022-12-17T22:12:39.858224",
     "status": "completed"
    },
    "tags": []
   },
   "outputs": [],
   "source": [
    "from sklearn.ensemble import RandomForestClassifier\n",
    "rfc=RandomForestClassifier(n_estimators=600)"
   ]
  },
  {
   "cell_type": "code",
   "execution_count": 24,
   "id": "bcd49bda",
   "metadata": {
    "execution": {
     "iopub.execute_input": "2022-12-17T22:12:39.974000Z",
     "iopub.status.busy": "2022-12-17T22:12:39.972813Z",
     "iopub.status.idle": "2022-12-17T22:12:49.331284Z",
     "shell.execute_reply": "2022-12-17T22:12:49.330161Z"
    },
    "papermill": {
     "duration": 9.379411,
     "end_time": "2022-12-17T22:12:49.333809",
     "exception": false,
     "start_time": "2022-12-17T22:12:39.954398",
     "status": "completed"
    },
    "tags": []
   },
   "outputs": [
    {
     "data": {
      "text/plain": [
       "RandomForestClassifier(n_estimators=600)"
      ]
     },
     "execution_count": 24,
     "metadata": {},
     "output_type": "execute_result"
    }
   ],
   "source": [
    "rfc.fit(X_train,y_train)\n"
   ]
  },
  {
   "cell_type": "markdown",
   "id": "f605b8c8",
   "metadata": {
    "papermill": {
     "duration": 0.016795,
     "end_time": "2022-12-17T22:12:49.367746",
     "exception": false,
     "start_time": "2022-12-17T22:12:49.350951",
     "status": "completed"
    },
    "tags": []
   },
   "source": [
    "## Predictions and Evaluation\n",
    "\n",
    "Let's predict off the y_test values and evaluate our model.\n",
    "\n",
    "** Predict the class of not.fully.paid for the X_test data.**"
   ]
  },
  {
   "cell_type": "code",
   "execution_count": 25,
   "id": "2107a54e",
   "metadata": {
    "collapsed": false,
    "execution": {
     "iopub.execute_input": "2022-12-17T22:12:49.403210Z",
     "iopub.status.busy": "2022-12-17T22:12:49.402812Z",
     "iopub.status.idle": "2022-12-17T22:12:49.872750Z",
     "shell.execute_reply": "2022-12-17T22:12:49.871522Z"
    },
    "jupyter": {
     "outputs_hidden": false
    },
    "papermill": {
     "duration": 0.491005,
     "end_time": "2022-12-17T22:12:49.875687",
     "exception": false,
     "start_time": "2022-12-17T22:12:49.384682",
     "status": "completed"
    },
    "tags": []
   },
   "outputs": [],
   "source": [
    "predictions=rfc.predict(X_test)\n"
   ]
  },
  {
   "cell_type": "markdown",
   "id": "4681b812",
   "metadata": {
    "papermill": {
     "duration": 0.016654,
     "end_time": "2022-12-17T22:12:49.910884",
     "exception": false,
     "start_time": "2022-12-17T22:12:49.894230",
     "status": "completed"
    },
    "tags": []
   },
   "source": [
    "**Now create a classification report from the results. Do you get anything strange or some sort of warning?**"
   ]
  },
  {
   "cell_type": "code",
   "execution_count": 26,
   "id": "f9f475f6",
   "metadata": {
    "execution": {
     "iopub.execute_input": "2022-12-17T22:12:49.946796Z",
     "iopub.status.busy": "2022-12-17T22:12:49.945913Z",
     "iopub.status.idle": "2022-12-17T22:12:49.962437Z",
     "shell.execute_reply": "2022-12-17T22:12:49.960694Z"
    },
    "papermill": {
     "duration": 0.037773,
     "end_time": "2022-12-17T22:12:49.965551",
     "exception": false,
     "start_time": "2022-12-17T22:12:49.927778",
     "status": "completed"
    },
    "tags": []
   },
   "outputs": [
    {
     "name": "stdout",
     "output_type": "stream",
     "text": [
      "              precision    recall  f1-score   support\n",
      "\n",
      "           0       1.00      0.85      0.92      2855\n",
      "           1       0.03      0.63      0.05        19\n",
      "\n",
      "    accuracy                           0.85      2874\n",
      "   macro avg       0.51      0.74      0.48      2874\n",
      "weighted avg       0.99      0.85      0.91      2874\n",
      "\n",
      "\n",
      "\n",
      "[[2424  431]\n",
      " [   7   12]]\n"
     ]
    }
   ],
   "source": [
    "from sklearn.metrics import classification_report,confusion_matrix\n",
    "print(classification_report(predictions,y_test))\n",
    "print('\\n')\n",
    "print(confusion_matrix(predictions,y_test))"
   ]
  },
  {
   "cell_type": "markdown",
   "id": "c9f9cbcd",
   "metadata": {
    "papermill": {
     "duration": 0.016712,
     "end_time": "2022-12-17T22:12:49.999926",
     "exception": false,
     "start_time": "2022-12-17T22:12:49.983214",
     "status": "completed"
    },
    "tags": []
   },
   "source": [
    "**Show the Confusion Matrix for the predictions.**"
   ]
  },
  {
   "cell_type": "markdown",
   "id": "0f53989b",
   "metadata": {
    "papermill": {
     "duration": 0.016822,
     "end_time": "2022-12-17T22:12:50.033843",
     "exception": false,
     "start_time": "2022-12-17T22:12:50.017021",
     "status": "completed"
    },
    "tags": []
   },
   "source": [
    "**What performed better the random forest or the decision tree?**"
   ]
  },
  {
   "cell_type": "code",
   "execution_count": 27,
   "id": "00481067",
   "metadata": {
    "execution": {
     "iopub.execute_input": "2022-12-17T22:12:50.071097Z",
     "iopub.status.busy": "2022-12-17T22:12:50.070663Z",
     "iopub.status.idle": "2022-12-17T22:12:50.075781Z",
     "shell.execute_reply": "2022-12-17T22:12:50.074453Z"
    },
    "papermill": {
     "duration": 0.027303,
     "end_time": "2022-12-17T22:12:50.078117",
     "exception": false,
     "start_time": "2022-12-17T22:12:50.050814",
     "status": "completed"
    },
    "tags": []
   },
   "outputs": [],
   "source": [
    "##It depends on the data and the particular focus the business has favourable interest in."
   ]
  }
 ],
 "metadata": {
  "kernelspec": {
   "display_name": "Python 3",
   "language": "python",
   "name": "python3"
  },
  "language_info": {
   "codemirror_mode": {
    "name": "ipython",
    "version": 3
   },
   "file_extension": ".py",
   "mimetype": "text/x-python",
   "name": "python",
   "nbconvert_exporter": "python",
   "pygments_lexer": "ipython3",
   "version": "3.7.12"
  },
  "papermill": {
   "default_parameters": {},
   "duration": 27.742064,
   "end_time": "2022-12-17T22:12:51.018935",
   "environment_variables": {},
   "exception": null,
   "input_path": "__notebook__.ipynb",
   "output_path": "__notebook__.ipynb",
   "parameters": {},
   "start_time": "2022-12-17T22:12:23.276871",
   "version": "2.3.4"
  }
 },
 "nbformat": 4,
 "nbformat_minor": 5
}
