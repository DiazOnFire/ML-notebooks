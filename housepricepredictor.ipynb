{
 "cells": [
  {
   "cell_type": "markdown",
   "id": "5806fb13",
   "metadata": {
    "papermill": {
     "duration": 0.008653,
     "end_time": "2023-01-14T13:19:38.871991",
     "exception": false,
     "start_time": "2023-01-14T13:19:38.863338",
     "status": "completed"
    },
    "tags": []
   },
   "source": [
    "Importing the dependancies\n"
   ]
  },
  {
   "cell_type": "markdown",
   "id": "20d82124",
   "metadata": {
    "papermill": {
     "duration": 0.007135,
     "end_time": "2023-01-14T13:19:38.886406",
     "exception": false,
     "start_time": "2023-01-14T13:19:38.879271",
     "status": "completed"
    },
    "tags": []
   },
   "source": [
    "* This is a very basic regression model to predict house prices based on the Boston House prices dataset.\n",
    "* As a beginner in Machine Learning, most enthusiasts use this dataset for learning.\n",
    "*Based on features like crime rate, Tax ,age and many more, we try to predict prices of houses.\n",
    "\n",
    "> I have used XGBoost Regressor model for predicting house prices. Any other regression model can be used as well."
   ]
  },
  {
   "cell_type": "code",
   "execution_count": 1,
   "id": "26dbe193",
   "metadata": {
    "execution": {
     "iopub.execute_input": "2023-01-14T13:19:38.902350Z",
     "iopub.status.busy": "2023-01-14T13:19:38.901821Z",
     "iopub.status.idle": "2023-01-14T13:19:40.726316Z",
     "shell.execute_reply": "2023-01-14T13:19:40.725089Z"
    },
    "papermill": {
     "duration": 1.836065,
     "end_time": "2023-01-14T13:19:40.729418",
     "exception": false,
     "start_time": "2023-01-14T13:19:38.893353",
     "status": "completed"
    },
    "tags": []
   },
   "outputs": [],
   "source": [
    "import numpy as np\n",
    "import pandas as pd\n",
    "import matplotlib.pyplot as plt\n",
    "%matplotlib inline\n",
    "import seaborn as sns\n",
    "import sklearn.datasets\n",
    "from sklearn.model_selection import train_test_split\n",
    "from xgboost import XGBRegressor\n",
    "from sklearn import metrics"
   ]
  },
  {
   "cell_type": "markdown",
   "id": "42ebcc10",
   "metadata": {
    "papermill": {
     "duration": 0.006773,
     "end_time": "2023-01-14T13:19:40.743338",
     "exception": false,
     "start_time": "2023-01-14T13:19:40.736565",
     "status": "completed"
    },
    "tags": []
   },
   "source": [
    "Importing the Boston House Dataset from sklearn dataset library"
   ]
  },
  {
   "cell_type": "code",
   "execution_count": 2,
   "id": "b5e7338b",
   "metadata": {
    "execution": {
     "iopub.execute_input": "2023-01-14T13:19:40.759944Z",
     "iopub.status.busy": "2023-01-14T13:19:40.759184Z",
     "iopub.status.idle": "2023-01-14T13:19:40.781309Z",
     "shell.execute_reply": "2023-01-14T13:19:40.779933Z"
    },
    "papermill": {
     "duration": 0.034761,
     "end_time": "2023-01-14T13:19:40.785123",
     "exception": false,
     "start_time": "2023-01-14T13:19:40.750362",
     "status": "completed"
    },
    "tags": []
   },
   "outputs": [
    {
     "name": "stderr",
     "output_type": "stream",
     "text": [
      "/opt/conda/lib/python3.7/site-packages/sklearn/utils/deprecation.py:87: FutureWarning: Function load_boston is deprecated; `load_boston` is deprecated in 1.0 and will be removed in 1.2.\n",
      "\n",
      "    The Boston housing prices dataset has an ethical problem. You can refer to\n",
      "    the documentation of this function for further details.\n",
      "\n",
      "    The scikit-learn maintainers therefore strongly discourage the use of this\n",
      "    dataset unless the purpose of the code is to study and educate about\n",
      "    ethical issues in data science and machine learning.\n",
      "\n",
      "    In this special case, you can fetch the dataset from the original\n",
      "    source::\n",
      "\n",
      "        import pandas as pd\n",
      "        import numpy as np\n",
      "\n",
      "\n",
      "        data_url = \"http://lib.stat.cmu.edu/datasets/boston\"\n",
      "        raw_df = pd.read_csv(data_url, sep=\"\\s+\", skiprows=22, header=None)\n",
      "        data = np.hstack([raw_df.values[::2, :], raw_df.values[1::2, :2]])\n",
      "        target = raw_df.values[1::2, 2]\n",
      "\n",
      "    Alternative datasets include the California housing dataset (i.e.\n",
      "    :func:`~sklearn.datasets.fetch_california_housing`) and the Ames housing\n",
      "    dataset. You can load the datasets as follows::\n",
      "\n",
      "        from sklearn.datasets import fetch_california_housing\n",
      "        housing = fetch_california_housing()\n",
      "\n",
      "    for the California housing dataset and::\n",
      "\n",
      "        from sklearn.datasets import fetch_openml\n",
      "        housing = fetch_openml(name=\"house_prices\", as_frame=True)\n",
      "\n",
      "    for the Ames housing dataset.\n",
      "    \n",
      "  warnings.warn(msg, category=FutureWarning)\n"
     ]
    }
   ],
   "source": [
    "house_price_dataset=sklearn.datasets.load_boston()\n"
   ]
  },
  {
   "cell_type": "markdown",
   "id": "08d1d730",
   "metadata": {
    "papermill": {
     "duration": 0.00877,
     "end_time": "2023-01-14T13:19:40.801286",
     "exception": false,
     "start_time": "2023-01-14T13:19:40.792516",
     "status": "completed"
    },
    "tags": []
   },
   "source": [
    "Loading the dataset into a pandas dataframe for better understanding."
   ]
  },
  {
   "cell_type": "code",
   "execution_count": 3,
   "id": "3bcb7feb",
   "metadata": {
    "execution": {
     "iopub.execute_input": "2023-01-14T13:19:40.817829Z",
     "iopub.status.busy": "2023-01-14T13:19:40.817366Z",
     "iopub.status.idle": "2023-01-14T13:19:40.866428Z",
     "shell.execute_reply": "2023-01-14T13:19:40.864911Z"
    },
    "papermill": {
     "duration": 0.060877,
     "end_time": "2023-01-14T13:19:40.869490",
     "exception": false,
     "start_time": "2023-01-14T13:19:40.808613",
     "status": "completed"
    },
    "tags": []
   },
   "outputs": [
    {
     "data": {
      "text/html": [
       "<div>\n",
       "<style scoped>\n",
       "    .dataframe tbody tr th:only-of-type {\n",
       "        vertical-align: middle;\n",
       "    }\n",
       "\n",
       "    .dataframe tbody tr th {\n",
       "        vertical-align: top;\n",
       "    }\n",
       "\n",
       "    .dataframe thead th {\n",
       "        text-align: right;\n",
       "    }\n",
       "</style>\n",
       "<table border=\"1\" class=\"dataframe\">\n",
       "  <thead>\n",
       "    <tr style=\"text-align: right;\">\n",
       "      <th></th>\n",
       "      <th>CRIM</th>\n",
       "      <th>ZN</th>\n",
       "      <th>INDUS</th>\n",
       "      <th>CHAS</th>\n",
       "      <th>NOX</th>\n",
       "      <th>RM</th>\n",
       "      <th>AGE</th>\n",
       "      <th>DIS</th>\n",
       "      <th>RAD</th>\n",
       "      <th>TAX</th>\n",
       "      <th>PTRATIO</th>\n",
       "      <th>B</th>\n",
       "      <th>LSTAT</th>\n",
       "    </tr>\n",
       "  </thead>\n",
       "  <tbody>\n",
       "    <tr>\n",
       "      <th>0</th>\n",
       "      <td>0.00632</td>\n",
       "      <td>18.0</td>\n",
       "      <td>2.31</td>\n",
       "      <td>0.0</td>\n",
       "      <td>0.538</td>\n",
       "      <td>6.575</td>\n",
       "      <td>65.2</td>\n",
       "      <td>4.0900</td>\n",
       "      <td>1.0</td>\n",
       "      <td>296.0</td>\n",
       "      <td>15.3</td>\n",
       "      <td>396.90</td>\n",
       "      <td>4.98</td>\n",
       "    </tr>\n",
       "    <tr>\n",
       "      <th>1</th>\n",
       "      <td>0.02731</td>\n",
       "      <td>0.0</td>\n",
       "      <td>7.07</td>\n",
       "      <td>0.0</td>\n",
       "      <td>0.469</td>\n",
       "      <td>6.421</td>\n",
       "      <td>78.9</td>\n",
       "      <td>4.9671</td>\n",
       "      <td>2.0</td>\n",
       "      <td>242.0</td>\n",
       "      <td>17.8</td>\n",
       "      <td>396.90</td>\n",
       "      <td>9.14</td>\n",
       "    </tr>\n",
       "    <tr>\n",
       "      <th>2</th>\n",
       "      <td>0.02729</td>\n",
       "      <td>0.0</td>\n",
       "      <td>7.07</td>\n",
       "      <td>0.0</td>\n",
       "      <td>0.469</td>\n",
       "      <td>7.185</td>\n",
       "      <td>61.1</td>\n",
       "      <td>4.9671</td>\n",
       "      <td>2.0</td>\n",
       "      <td>242.0</td>\n",
       "      <td>17.8</td>\n",
       "      <td>392.83</td>\n",
       "      <td>4.03</td>\n",
       "    </tr>\n",
       "    <tr>\n",
       "      <th>3</th>\n",
       "      <td>0.03237</td>\n",
       "      <td>0.0</td>\n",
       "      <td>2.18</td>\n",
       "      <td>0.0</td>\n",
       "      <td>0.458</td>\n",
       "      <td>6.998</td>\n",
       "      <td>45.8</td>\n",
       "      <td>6.0622</td>\n",
       "      <td>3.0</td>\n",
       "      <td>222.0</td>\n",
       "      <td>18.7</td>\n",
       "      <td>394.63</td>\n",
       "      <td>2.94</td>\n",
       "    </tr>\n",
       "    <tr>\n",
       "      <th>4</th>\n",
       "      <td>0.06905</td>\n",
       "      <td>0.0</td>\n",
       "      <td>2.18</td>\n",
       "      <td>0.0</td>\n",
       "      <td>0.458</td>\n",
       "      <td>7.147</td>\n",
       "      <td>54.2</td>\n",
       "      <td>6.0622</td>\n",
       "      <td>3.0</td>\n",
       "      <td>222.0</td>\n",
       "      <td>18.7</td>\n",
       "      <td>396.90</td>\n",
       "      <td>5.33</td>\n",
       "    </tr>\n",
       "    <tr>\n",
       "      <th>...</th>\n",
       "      <td>...</td>\n",
       "      <td>...</td>\n",
       "      <td>...</td>\n",
       "      <td>...</td>\n",
       "      <td>...</td>\n",
       "      <td>...</td>\n",
       "      <td>...</td>\n",
       "      <td>...</td>\n",
       "      <td>...</td>\n",
       "      <td>...</td>\n",
       "      <td>...</td>\n",
       "      <td>...</td>\n",
       "      <td>...</td>\n",
       "    </tr>\n",
       "    <tr>\n",
       "      <th>501</th>\n",
       "      <td>0.06263</td>\n",
       "      <td>0.0</td>\n",
       "      <td>11.93</td>\n",
       "      <td>0.0</td>\n",
       "      <td>0.573</td>\n",
       "      <td>6.593</td>\n",
       "      <td>69.1</td>\n",
       "      <td>2.4786</td>\n",
       "      <td>1.0</td>\n",
       "      <td>273.0</td>\n",
       "      <td>21.0</td>\n",
       "      <td>391.99</td>\n",
       "      <td>9.67</td>\n",
       "    </tr>\n",
       "    <tr>\n",
       "      <th>502</th>\n",
       "      <td>0.04527</td>\n",
       "      <td>0.0</td>\n",
       "      <td>11.93</td>\n",
       "      <td>0.0</td>\n",
       "      <td>0.573</td>\n",
       "      <td>6.120</td>\n",
       "      <td>76.7</td>\n",
       "      <td>2.2875</td>\n",
       "      <td>1.0</td>\n",
       "      <td>273.0</td>\n",
       "      <td>21.0</td>\n",
       "      <td>396.90</td>\n",
       "      <td>9.08</td>\n",
       "    </tr>\n",
       "    <tr>\n",
       "      <th>503</th>\n",
       "      <td>0.06076</td>\n",
       "      <td>0.0</td>\n",
       "      <td>11.93</td>\n",
       "      <td>0.0</td>\n",
       "      <td>0.573</td>\n",
       "      <td>6.976</td>\n",
       "      <td>91.0</td>\n",
       "      <td>2.1675</td>\n",
       "      <td>1.0</td>\n",
       "      <td>273.0</td>\n",
       "      <td>21.0</td>\n",
       "      <td>396.90</td>\n",
       "      <td>5.64</td>\n",
       "    </tr>\n",
       "    <tr>\n",
       "      <th>504</th>\n",
       "      <td>0.10959</td>\n",
       "      <td>0.0</td>\n",
       "      <td>11.93</td>\n",
       "      <td>0.0</td>\n",
       "      <td>0.573</td>\n",
       "      <td>6.794</td>\n",
       "      <td>89.3</td>\n",
       "      <td>2.3889</td>\n",
       "      <td>1.0</td>\n",
       "      <td>273.0</td>\n",
       "      <td>21.0</td>\n",
       "      <td>393.45</td>\n",
       "      <td>6.48</td>\n",
       "    </tr>\n",
       "    <tr>\n",
       "      <th>505</th>\n",
       "      <td>0.04741</td>\n",
       "      <td>0.0</td>\n",
       "      <td>11.93</td>\n",
       "      <td>0.0</td>\n",
       "      <td>0.573</td>\n",
       "      <td>6.030</td>\n",
       "      <td>80.8</td>\n",
       "      <td>2.5050</td>\n",
       "      <td>1.0</td>\n",
       "      <td>273.0</td>\n",
       "      <td>21.0</td>\n",
       "      <td>396.90</td>\n",
       "      <td>7.88</td>\n",
       "    </tr>\n",
       "  </tbody>\n",
       "</table>\n",
       "<p>506 rows × 13 columns</p>\n",
       "</div>"
      ],
      "text/plain": [
       "        CRIM    ZN  INDUS  CHAS    NOX     RM   AGE     DIS  RAD    TAX  \\\n",
       "0    0.00632  18.0   2.31   0.0  0.538  6.575  65.2  4.0900  1.0  296.0   \n",
       "1    0.02731   0.0   7.07   0.0  0.469  6.421  78.9  4.9671  2.0  242.0   \n",
       "2    0.02729   0.0   7.07   0.0  0.469  7.185  61.1  4.9671  2.0  242.0   \n",
       "3    0.03237   0.0   2.18   0.0  0.458  6.998  45.8  6.0622  3.0  222.0   \n",
       "4    0.06905   0.0   2.18   0.0  0.458  7.147  54.2  6.0622  3.0  222.0   \n",
       "..       ...   ...    ...   ...    ...    ...   ...     ...  ...    ...   \n",
       "501  0.06263   0.0  11.93   0.0  0.573  6.593  69.1  2.4786  1.0  273.0   \n",
       "502  0.04527   0.0  11.93   0.0  0.573  6.120  76.7  2.2875  1.0  273.0   \n",
       "503  0.06076   0.0  11.93   0.0  0.573  6.976  91.0  2.1675  1.0  273.0   \n",
       "504  0.10959   0.0  11.93   0.0  0.573  6.794  89.3  2.3889  1.0  273.0   \n",
       "505  0.04741   0.0  11.93   0.0  0.573  6.030  80.8  2.5050  1.0  273.0   \n",
       "\n",
       "     PTRATIO       B  LSTAT  \n",
       "0       15.3  396.90   4.98  \n",
       "1       17.8  396.90   9.14  \n",
       "2       17.8  392.83   4.03  \n",
       "3       18.7  394.63   2.94  \n",
       "4       18.7  396.90   5.33  \n",
       "..       ...     ...    ...  \n",
       "501     21.0  391.99   9.67  \n",
       "502     21.0  396.90   9.08  \n",
       "503     21.0  396.90   5.64  \n",
       "504     21.0  393.45   6.48  \n",
       "505     21.0  396.90   7.88  \n",
       "\n",
       "[506 rows x 13 columns]"
      ]
     },
     "execution_count": 3,
     "metadata": {},
     "output_type": "execute_result"
    }
   ],
   "source": [
    "house_price_dataframe=pd.DataFrame(house_price_dataset.data,columns=house_price_dataset.feature_names)\n",
    "house_price_dataframe"
   ]
  },
  {
   "cell_type": "markdown",
   "id": "98cbd72c",
   "metadata": {
    "papermill": {
     "duration": 0.00709,
     "end_time": "2023-01-14T13:19:40.884084",
     "exception": false,
     "start_time": "2023-01-14T13:19:40.876994",
     "status": "completed"
    },
    "tags": []
   },
   "source": [
    "We haven't added the target data column i.e the prices of the house to the dataframe, We add the target instance to the dataframe as 'Prices' Column"
   ]
  },
  {
   "cell_type": "code",
   "execution_count": 4,
   "id": "8ecca47c",
   "metadata": {
    "execution": {
     "iopub.execute_input": "2023-01-14T13:19:40.902315Z",
     "iopub.status.busy": "2023-01-14T13:19:40.901855Z",
     "iopub.status.idle": "2023-01-14T13:19:40.935975Z",
     "shell.execute_reply": "2023-01-14T13:19:40.934435Z"
    },
    "papermill": {
     "duration": 0.046739,
     "end_time": "2023-01-14T13:19:40.938680",
     "exception": false,
     "start_time": "2023-01-14T13:19:40.891941",
     "status": "completed"
    },
    "tags": []
   },
   "outputs": [
    {
     "data": {
      "text/html": [
       "<div>\n",
       "<style scoped>\n",
       "    .dataframe tbody tr th:only-of-type {\n",
       "        vertical-align: middle;\n",
       "    }\n",
       "\n",
       "    .dataframe tbody tr th {\n",
       "        vertical-align: top;\n",
       "    }\n",
       "\n",
       "    .dataframe thead th {\n",
       "        text-align: right;\n",
       "    }\n",
       "</style>\n",
       "<table border=\"1\" class=\"dataframe\">\n",
       "  <thead>\n",
       "    <tr style=\"text-align: right;\">\n",
       "      <th></th>\n",
       "      <th>CRIM</th>\n",
       "      <th>ZN</th>\n",
       "      <th>INDUS</th>\n",
       "      <th>CHAS</th>\n",
       "      <th>NOX</th>\n",
       "      <th>RM</th>\n",
       "      <th>AGE</th>\n",
       "      <th>DIS</th>\n",
       "      <th>RAD</th>\n",
       "      <th>TAX</th>\n",
       "      <th>PTRATIO</th>\n",
       "      <th>B</th>\n",
       "      <th>LSTAT</th>\n",
       "      <th>Prices</th>\n",
       "    </tr>\n",
       "  </thead>\n",
       "  <tbody>\n",
       "    <tr>\n",
       "      <th>0</th>\n",
       "      <td>0.00632</td>\n",
       "      <td>18.0</td>\n",
       "      <td>2.31</td>\n",
       "      <td>0.0</td>\n",
       "      <td>0.538</td>\n",
       "      <td>6.575</td>\n",
       "      <td>65.2</td>\n",
       "      <td>4.0900</td>\n",
       "      <td>1.0</td>\n",
       "      <td>296.0</td>\n",
       "      <td>15.3</td>\n",
       "      <td>396.90</td>\n",
       "      <td>4.98</td>\n",
       "      <td>24.0</td>\n",
       "    </tr>\n",
       "    <tr>\n",
       "      <th>1</th>\n",
       "      <td>0.02731</td>\n",
       "      <td>0.0</td>\n",
       "      <td>7.07</td>\n",
       "      <td>0.0</td>\n",
       "      <td>0.469</td>\n",
       "      <td>6.421</td>\n",
       "      <td>78.9</td>\n",
       "      <td>4.9671</td>\n",
       "      <td>2.0</td>\n",
       "      <td>242.0</td>\n",
       "      <td>17.8</td>\n",
       "      <td>396.90</td>\n",
       "      <td>9.14</td>\n",
       "      <td>21.6</td>\n",
       "    </tr>\n",
       "    <tr>\n",
       "      <th>2</th>\n",
       "      <td>0.02729</td>\n",
       "      <td>0.0</td>\n",
       "      <td>7.07</td>\n",
       "      <td>0.0</td>\n",
       "      <td>0.469</td>\n",
       "      <td>7.185</td>\n",
       "      <td>61.1</td>\n",
       "      <td>4.9671</td>\n",
       "      <td>2.0</td>\n",
       "      <td>242.0</td>\n",
       "      <td>17.8</td>\n",
       "      <td>392.83</td>\n",
       "      <td>4.03</td>\n",
       "      <td>34.7</td>\n",
       "    </tr>\n",
       "    <tr>\n",
       "      <th>3</th>\n",
       "      <td>0.03237</td>\n",
       "      <td>0.0</td>\n",
       "      <td>2.18</td>\n",
       "      <td>0.0</td>\n",
       "      <td>0.458</td>\n",
       "      <td>6.998</td>\n",
       "      <td>45.8</td>\n",
       "      <td>6.0622</td>\n",
       "      <td>3.0</td>\n",
       "      <td>222.0</td>\n",
       "      <td>18.7</td>\n",
       "      <td>394.63</td>\n",
       "      <td>2.94</td>\n",
       "      <td>33.4</td>\n",
       "    </tr>\n",
       "    <tr>\n",
       "      <th>4</th>\n",
       "      <td>0.06905</td>\n",
       "      <td>0.0</td>\n",
       "      <td>2.18</td>\n",
       "      <td>0.0</td>\n",
       "      <td>0.458</td>\n",
       "      <td>7.147</td>\n",
       "      <td>54.2</td>\n",
       "      <td>6.0622</td>\n",
       "      <td>3.0</td>\n",
       "      <td>222.0</td>\n",
       "      <td>18.7</td>\n",
       "      <td>396.90</td>\n",
       "      <td>5.33</td>\n",
       "      <td>36.2</td>\n",
       "    </tr>\n",
       "  </tbody>\n",
       "</table>\n",
       "</div>"
      ],
      "text/plain": [
       "      CRIM    ZN  INDUS  CHAS    NOX     RM   AGE     DIS  RAD    TAX  \\\n",
       "0  0.00632  18.0   2.31   0.0  0.538  6.575  65.2  4.0900  1.0  296.0   \n",
       "1  0.02731   0.0   7.07   0.0  0.469  6.421  78.9  4.9671  2.0  242.0   \n",
       "2  0.02729   0.0   7.07   0.0  0.469  7.185  61.1  4.9671  2.0  242.0   \n",
       "3  0.03237   0.0   2.18   0.0  0.458  6.998  45.8  6.0622  3.0  222.0   \n",
       "4  0.06905   0.0   2.18   0.0  0.458  7.147  54.2  6.0622  3.0  222.0   \n",
       "\n",
       "   PTRATIO       B  LSTAT  Prices  \n",
       "0     15.3  396.90   4.98    24.0  \n",
       "1     17.8  396.90   9.14    21.6  \n",
       "2     17.8  392.83   4.03    34.7  \n",
       "3     18.7  394.63   2.94    33.4  \n",
       "4     18.7  396.90   5.33    36.2  "
      ]
     },
     "execution_count": 4,
     "metadata": {},
     "output_type": "execute_result"
    }
   ],
   "source": [
    "house_price_dataframe['Prices']=house_price_dataset.target\n",
    "house_price_dataframe.head()\n"
   ]
  },
  {
   "cell_type": "markdown",
   "id": "d36fdba5",
   "metadata": {
    "papermill": {
     "duration": 0.007417,
     "end_time": "2023-01-14T13:19:40.953941",
     "exception": false,
     "start_time": "2023-01-14T13:19:40.946524",
     "status": "completed"
    },
    "tags": []
   },
   "source": []
  },
  {
   "cell_type": "code",
   "execution_count": 5,
   "id": "cb69e09a",
   "metadata": {
    "execution": {
     "iopub.execute_input": "2023-01-14T13:19:40.971649Z",
     "iopub.status.busy": "2023-01-14T13:19:40.971232Z",
     "iopub.status.idle": "2023-01-14T13:19:40.978375Z",
     "shell.execute_reply": "2023-01-14T13:19:40.976882Z"
    },
    "papermill": {
     "duration": 0.019531,
     "end_time": "2023-01-14T13:19:40.981544",
     "exception": false,
     "start_time": "2023-01-14T13:19:40.962013",
     "status": "completed"
    },
    "tags": []
   },
   "outputs": [
    {
     "name": "stdout",
     "output_type": "stream",
     "text": [
      "Number of rows and columns in the dataframe is (506, 14)\n"
     ]
    }
   ],
   "source": [
    "print(\"Number of rows and columns in the dataframe is\",house_price_dataframe.shape)"
   ]
  },
  {
   "cell_type": "markdown",
   "id": "0045c5d6",
   "metadata": {
    "papermill": {
     "duration": 0.00733,
     "end_time": "2023-01-14T13:19:40.997057",
     "exception": false,
     "start_time": "2023-01-14T13:19:40.989727",
     "status": "completed"
    },
    "tags": []
   },
   "source": [
    "We need to check if the dataframe has missing values"
   ]
  },
  {
   "cell_type": "code",
   "execution_count": 6,
   "id": "89a6bd67",
   "metadata": {
    "execution": {
     "iopub.execute_input": "2023-01-14T13:19:41.014068Z",
     "iopub.status.busy": "2023-01-14T13:19:41.013622Z",
     "iopub.status.idle": "2023-01-14T13:19:41.025063Z",
     "shell.execute_reply": "2023-01-14T13:19:41.023761Z"
    },
    "papermill": {
     "duration": 0.023054,
     "end_time": "2023-01-14T13:19:41.027714",
     "exception": false,
     "start_time": "2023-01-14T13:19:41.004660",
     "status": "completed"
    },
    "tags": []
   },
   "outputs": [
    {
     "data": {
      "text/plain": [
       "CRIM       0\n",
       "ZN         0\n",
       "INDUS      0\n",
       "CHAS       0\n",
       "NOX        0\n",
       "RM         0\n",
       "AGE        0\n",
       "DIS        0\n",
       "RAD        0\n",
       "TAX        0\n",
       "PTRATIO    0\n",
       "B          0\n",
       "LSTAT      0\n",
       "Prices     0\n",
       "dtype: int64"
      ]
     },
     "execution_count": 6,
     "metadata": {},
     "output_type": "execute_result"
    }
   ],
   "source": [
    "house_price_dataframe.isnull().sum()"
   ]
  },
  {
   "cell_type": "markdown",
   "id": "60f3b68c",
   "metadata": {
    "papermill": {
     "duration": 0.007787,
     "end_time": "2023-01-14T13:19:41.043691",
     "exception": false,
     "start_time": "2023-01-14T13:19:41.035904",
     "status": "completed"
    },
    "tags": []
   },
   "source": [
    "So the dataframe does not have any missing values in any columns, so we can continue and do some Data Exploration on the dataset."
   ]
  },
  {
   "cell_type": "code",
   "execution_count": 7,
   "id": "0dca6d1c",
   "metadata": {
    "execution": {
     "iopub.execute_input": "2023-01-14T13:19:41.061230Z",
     "iopub.status.busy": "2023-01-14T13:19:41.060780Z",
     "iopub.status.idle": "2023-01-14T13:19:41.127664Z",
     "shell.execute_reply": "2023-01-14T13:19:41.125986Z"
    },
    "papermill": {
     "duration": 0.078961,
     "end_time": "2023-01-14T13:19:41.130490",
     "exception": false,
     "start_time": "2023-01-14T13:19:41.051529",
     "status": "completed"
    },
    "tags": []
   },
   "outputs": [
    {
     "data": {
      "text/html": [
       "<div>\n",
       "<style scoped>\n",
       "    .dataframe tbody tr th:only-of-type {\n",
       "        vertical-align: middle;\n",
       "    }\n",
       "\n",
       "    .dataframe tbody tr th {\n",
       "        vertical-align: top;\n",
       "    }\n",
       "\n",
       "    .dataframe thead th {\n",
       "        text-align: right;\n",
       "    }\n",
       "</style>\n",
       "<table border=\"1\" class=\"dataframe\">\n",
       "  <thead>\n",
       "    <tr style=\"text-align: right;\">\n",
       "      <th></th>\n",
       "      <th>CRIM</th>\n",
       "      <th>ZN</th>\n",
       "      <th>INDUS</th>\n",
       "      <th>CHAS</th>\n",
       "      <th>NOX</th>\n",
       "      <th>RM</th>\n",
       "      <th>AGE</th>\n",
       "      <th>DIS</th>\n",
       "      <th>RAD</th>\n",
       "      <th>TAX</th>\n",
       "      <th>PTRATIO</th>\n",
       "      <th>B</th>\n",
       "      <th>LSTAT</th>\n",
       "      <th>Prices</th>\n",
       "    </tr>\n",
       "  </thead>\n",
       "  <tbody>\n",
       "    <tr>\n",
       "      <th>count</th>\n",
       "      <td>506.000000</td>\n",
       "      <td>506.000000</td>\n",
       "      <td>506.000000</td>\n",
       "      <td>506.000000</td>\n",
       "      <td>506.000000</td>\n",
       "      <td>506.000000</td>\n",
       "      <td>506.000000</td>\n",
       "      <td>506.000000</td>\n",
       "      <td>506.000000</td>\n",
       "      <td>506.000000</td>\n",
       "      <td>506.000000</td>\n",
       "      <td>506.000000</td>\n",
       "      <td>506.000000</td>\n",
       "      <td>506.000000</td>\n",
       "    </tr>\n",
       "    <tr>\n",
       "      <th>mean</th>\n",
       "      <td>3.613524</td>\n",
       "      <td>11.363636</td>\n",
       "      <td>11.136779</td>\n",
       "      <td>0.069170</td>\n",
       "      <td>0.554695</td>\n",
       "      <td>6.284634</td>\n",
       "      <td>68.574901</td>\n",
       "      <td>3.795043</td>\n",
       "      <td>9.549407</td>\n",
       "      <td>408.237154</td>\n",
       "      <td>18.455534</td>\n",
       "      <td>356.674032</td>\n",
       "      <td>12.653063</td>\n",
       "      <td>22.532806</td>\n",
       "    </tr>\n",
       "    <tr>\n",
       "      <th>std</th>\n",
       "      <td>8.601545</td>\n",
       "      <td>23.322453</td>\n",
       "      <td>6.860353</td>\n",
       "      <td>0.253994</td>\n",
       "      <td>0.115878</td>\n",
       "      <td>0.702617</td>\n",
       "      <td>28.148861</td>\n",
       "      <td>2.105710</td>\n",
       "      <td>8.707259</td>\n",
       "      <td>168.537116</td>\n",
       "      <td>2.164946</td>\n",
       "      <td>91.294864</td>\n",
       "      <td>7.141062</td>\n",
       "      <td>9.197104</td>\n",
       "    </tr>\n",
       "    <tr>\n",
       "      <th>min</th>\n",
       "      <td>0.006320</td>\n",
       "      <td>0.000000</td>\n",
       "      <td>0.460000</td>\n",
       "      <td>0.000000</td>\n",
       "      <td>0.385000</td>\n",
       "      <td>3.561000</td>\n",
       "      <td>2.900000</td>\n",
       "      <td>1.129600</td>\n",
       "      <td>1.000000</td>\n",
       "      <td>187.000000</td>\n",
       "      <td>12.600000</td>\n",
       "      <td>0.320000</td>\n",
       "      <td>1.730000</td>\n",
       "      <td>5.000000</td>\n",
       "    </tr>\n",
       "    <tr>\n",
       "      <th>25%</th>\n",
       "      <td>0.082045</td>\n",
       "      <td>0.000000</td>\n",
       "      <td>5.190000</td>\n",
       "      <td>0.000000</td>\n",
       "      <td>0.449000</td>\n",
       "      <td>5.885500</td>\n",
       "      <td>45.025000</td>\n",
       "      <td>2.100175</td>\n",
       "      <td>4.000000</td>\n",
       "      <td>279.000000</td>\n",
       "      <td>17.400000</td>\n",
       "      <td>375.377500</td>\n",
       "      <td>6.950000</td>\n",
       "      <td>17.025000</td>\n",
       "    </tr>\n",
       "    <tr>\n",
       "      <th>50%</th>\n",
       "      <td>0.256510</td>\n",
       "      <td>0.000000</td>\n",
       "      <td>9.690000</td>\n",
       "      <td>0.000000</td>\n",
       "      <td>0.538000</td>\n",
       "      <td>6.208500</td>\n",
       "      <td>77.500000</td>\n",
       "      <td>3.207450</td>\n",
       "      <td>5.000000</td>\n",
       "      <td>330.000000</td>\n",
       "      <td>19.050000</td>\n",
       "      <td>391.440000</td>\n",
       "      <td>11.360000</td>\n",
       "      <td>21.200000</td>\n",
       "    </tr>\n",
       "    <tr>\n",
       "      <th>75%</th>\n",
       "      <td>3.677083</td>\n",
       "      <td>12.500000</td>\n",
       "      <td>18.100000</td>\n",
       "      <td>0.000000</td>\n",
       "      <td>0.624000</td>\n",
       "      <td>6.623500</td>\n",
       "      <td>94.075000</td>\n",
       "      <td>5.188425</td>\n",
       "      <td>24.000000</td>\n",
       "      <td>666.000000</td>\n",
       "      <td>20.200000</td>\n",
       "      <td>396.225000</td>\n",
       "      <td>16.955000</td>\n",
       "      <td>25.000000</td>\n",
       "    </tr>\n",
       "    <tr>\n",
       "      <th>max</th>\n",
       "      <td>88.976200</td>\n",
       "      <td>100.000000</td>\n",
       "      <td>27.740000</td>\n",
       "      <td>1.000000</td>\n",
       "      <td>0.871000</td>\n",
       "      <td>8.780000</td>\n",
       "      <td>100.000000</td>\n",
       "      <td>12.126500</td>\n",
       "      <td>24.000000</td>\n",
       "      <td>711.000000</td>\n",
       "      <td>22.000000</td>\n",
       "      <td>396.900000</td>\n",
       "      <td>37.970000</td>\n",
       "      <td>50.000000</td>\n",
       "    </tr>\n",
       "  </tbody>\n",
       "</table>\n",
       "</div>"
      ],
      "text/plain": [
       "             CRIM          ZN       INDUS        CHAS         NOX          RM  \\\n",
       "count  506.000000  506.000000  506.000000  506.000000  506.000000  506.000000   \n",
       "mean     3.613524   11.363636   11.136779    0.069170    0.554695    6.284634   \n",
       "std      8.601545   23.322453    6.860353    0.253994    0.115878    0.702617   \n",
       "min      0.006320    0.000000    0.460000    0.000000    0.385000    3.561000   \n",
       "25%      0.082045    0.000000    5.190000    0.000000    0.449000    5.885500   \n",
       "50%      0.256510    0.000000    9.690000    0.000000    0.538000    6.208500   \n",
       "75%      3.677083   12.500000   18.100000    0.000000    0.624000    6.623500   \n",
       "max     88.976200  100.000000   27.740000    1.000000    0.871000    8.780000   \n",
       "\n",
       "              AGE         DIS         RAD         TAX     PTRATIO           B  \\\n",
       "count  506.000000  506.000000  506.000000  506.000000  506.000000  506.000000   \n",
       "mean    68.574901    3.795043    9.549407  408.237154   18.455534  356.674032   \n",
       "std     28.148861    2.105710    8.707259  168.537116    2.164946   91.294864   \n",
       "min      2.900000    1.129600    1.000000  187.000000   12.600000    0.320000   \n",
       "25%     45.025000    2.100175    4.000000  279.000000   17.400000  375.377500   \n",
       "50%     77.500000    3.207450    5.000000  330.000000   19.050000  391.440000   \n",
       "75%     94.075000    5.188425   24.000000  666.000000   20.200000  396.225000   \n",
       "max    100.000000   12.126500   24.000000  711.000000   22.000000  396.900000   \n",
       "\n",
       "            LSTAT      Prices  \n",
       "count  506.000000  506.000000  \n",
       "mean    12.653063   22.532806  \n",
       "std      7.141062    9.197104  \n",
       "min      1.730000    5.000000  \n",
       "25%      6.950000   17.025000  \n",
       "50%     11.360000   21.200000  \n",
       "75%     16.955000   25.000000  \n",
       "max     37.970000   50.000000  "
      ]
     },
     "execution_count": 7,
     "metadata": {},
     "output_type": "execute_result"
    }
   ],
   "source": [
    "house_price_dataframe.describe()"
   ]
  },
  {
   "cell_type": "markdown",
   "id": "d10e88fa",
   "metadata": {
    "papermill": {
     "duration": 0.007986,
     "end_time": "2023-01-14T13:19:41.146929",
     "exception": false,
     "start_time": "2023-01-14T13:19:41.138943",
     "status": "completed"
    },
    "tags": []
   },
   "source": [
    "We need to find the correlation between the features in the dataset.\n",
    "\n",
    "1. Positive Correlation\n",
    "2. Negative Correlation"
   ]
  },
  {
   "cell_type": "code",
   "execution_count": 8,
   "id": "b1758769",
   "metadata": {
    "execution": {
     "iopub.execute_input": "2023-01-14T13:19:41.165417Z",
     "iopub.status.busy": "2023-01-14T13:19:41.164988Z",
     "iopub.status.idle": "2023-01-14T13:19:41.172690Z",
     "shell.execute_reply": "2023-01-14T13:19:41.171759Z"
    },
    "papermill": {
     "duration": 0.019588,
     "end_time": "2023-01-14T13:19:41.174960",
     "exception": false,
     "start_time": "2023-01-14T13:19:41.155372",
     "status": "completed"
    },
    "tags": []
   },
   "outputs": [],
   "source": [
    "correlation=house_price_dataframe.corr()\n"
   ]
  },
  {
   "cell_type": "code",
   "execution_count": 9,
   "id": "a984436c",
   "metadata": {
    "execution": {
     "iopub.execute_input": "2023-01-14T13:19:41.194799Z",
     "iopub.status.busy": "2023-01-14T13:19:41.194268Z",
     "iopub.status.idle": "2023-01-14T13:19:42.610806Z",
     "shell.execute_reply": "2023-01-14T13:19:42.608945Z"
    },
    "papermill": {
     "duration": 1.43066,
     "end_time": "2023-01-14T13:19:42.614631",
     "exception": false,
     "start_time": "2023-01-14T13:19:41.183971",
     "status": "completed"
    },
    "tags": []
   },
   "outputs": [
    {
     "data": {
      "text/plain": [
       "<AxesSubplot:>"
      ]
     },
     "execution_count": 9,
     "metadata": {},
     "output_type": "execute_result"
    },
    {
     "data": {
      "image/png": "[encoded data removed]",
      "text/plain": [
       "<Figure size 720x720 with 2 Axes>"
      ]
     },
     "metadata": {
      "needs_background": "light"
     },
     "output_type": "display_data"
    }
   ],
   "source": [
    "#Making a heatmap to look into the correlation between features\n",
    "plt.figure(figsize=(10,10))\n",
    "sns.heatmap(correlation,cbar=True,square=True,fmt='.2f',annot=True,annot_kws={'size':10},cmap='Blues')\n"
   ]
  },
  {
   "cell_type": "markdown",
   "id": "2d5c1068",
   "metadata": {
    "papermill": {
     "duration": 0.010344,
     "end_time": "2023-01-14T13:19:42.636395",
     "exception": false,
     "start_time": "2023-01-14T13:19:42.626051",
     "status": "completed"
    },
    "tags": []
   },
   "source": [
    "We need to now split the data into Training and Testing data by using sklearn's train_test_split function."
   ]
  },
  {
   "cell_type": "code",
   "execution_count": 10,
   "id": "277d8d3b",
   "metadata": {
    "execution": {
     "iopub.execute_input": "2023-01-14T13:19:42.659303Z",
     "iopub.status.busy": "2023-01-14T13:19:42.658787Z",
     "iopub.status.idle": "2023-01-14T13:19:42.682344Z",
     "shell.execute_reply": "2023-01-14T13:19:42.680890Z"
    },
    "papermill": {
     "duration": 0.038869,
     "end_time": "2023-01-14T13:19:42.685502",
     "exception": false,
     "start_time": "2023-01-14T13:19:42.646633",
     "status": "completed"
    },
    "tags": []
   },
   "outputs": [
    {
     "name": "stdout",
     "output_type": "stream",
     "text": [
      "        CRIM    ZN  INDUS  CHAS    NOX     RM   AGE     DIS  RAD    TAX  \\\n",
      "0    0.00632  18.0   2.31   0.0  0.538  6.575  65.2  4.0900  1.0  296.0   \n",
      "1    0.02731   0.0   7.07   0.0  0.469  6.421  78.9  4.9671  2.0  242.0   \n",
      "2    0.02729   0.0   7.07   0.0  0.469  7.185  61.1  4.9671  2.0  242.0   \n",
      "3    0.03237   0.0   2.18   0.0  0.458  6.998  45.8  6.0622  3.0  222.0   \n",
      "4    0.06905   0.0   2.18   0.0  0.458  7.147  54.2  6.0622  3.0  222.0   \n",
      "..       ...   ...    ...   ...    ...    ...   ...     ...  ...    ...   \n",
      "501  0.06263   0.0  11.93   0.0  0.573  6.593  69.1  2.4786  1.0  273.0   \n",
      "502  0.04527   0.0  11.93   0.0  0.573  6.120  76.7  2.2875  1.0  273.0   \n",
      "503  0.06076   0.0  11.93   0.0  0.573  6.976  91.0  2.1675  1.0  273.0   \n",
      "504  0.10959   0.0  11.93   0.0  0.573  6.794  89.3  2.3889  1.0  273.0   \n",
      "505  0.04741   0.0  11.93   0.0  0.573  6.030  80.8  2.5050  1.0  273.0   \n",
      "\n",
      "     PTRATIO       B  LSTAT  \n",
      "0       15.3  396.90   4.98  \n",
      "1       17.8  396.90   9.14  \n",
      "2       17.8  392.83   4.03  \n",
      "3       18.7  394.63   2.94  \n",
      "4       18.7  396.90   5.33  \n",
      "..       ...     ...    ...  \n",
      "501     21.0  391.99   9.67  \n",
      "502     21.0  396.90   9.08  \n",
      "503     21.0  396.90   5.64  \n",
      "504     21.0  393.45   6.48  \n",
      "505     21.0  396.90   7.88  \n",
      "\n",
      "[506 rows x 13 columns]\n",
      "0      24.0\n",
      "1      21.6\n",
      "2      34.7\n",
      "3      33.4\n",
      "4      36.2\n",
      "       ... \n",
      "501    22.4\n",
      "502    20.6\n",
      "503    23.9\n",
      "504    22.0\n",
      "505    11.9\n",
      "Name: Prices, Length: 506, dtype: float64\n"
     ]
    }
   ],
   "source": [
    "X=house_price_dataframe.drop(['Prices'],axis=1)\n",
    "Y=house_price_dataframe['Prices']\n",
    "print(X)\n",
    "print(Y)\n"
   ]
  },
  {
   "cell_type": "code",
   "execution_count": 11,
   "id": "d004306a",
   "metadata": {
    "execution": {
     "iopub.execute_input": "2023-01-14T13:19:42.709659Z",
     "iopub.status.busy": "2023-01-14T13:19:42.709224Z",
     "iopub.status.idle": "2023-01-14T13:19:42.718456Z",
     "shell.execute_reply": "2023-01-14T13:19:42.716931Z"
    },
    "papermill": {
     "duration": 0.025408,
     "end_time": "2023-01-14T13:19:42.721352",
     "exception": false,
     "start_time": "2023-01-14T13:19:42.695944",
     "status": "completed"
    },
    "tags": []
   },
   "outputs": [],
   "source": [
    "X_train,X_test,Y_train,Y_test=train_test_split(X,Y,test_size=0.2,random_state=2)\n"
   ]
  },
  {
   "cell_type": "markdown",
   "id": "97d88522",
   "metadata": {
    "papermill": {
     "duration": 0.010462,
     "end_time": "2023-01-14T13:19:42.742426",
     "exception": false,
     "start_time": "2023-01-14T13:19:42.731964",
     "status": "completed"
    },
    "tags": []
   },
   "source": [
    "Model Training using XGBoost Regressor"
   ]
  },
  {
   "cell_type": "code",
   "execution_count": 12,
   "id": "9c6fad6e",
   "metadata": {
    "execution": {
     "iopub.execute_input": "2023-01-14T13:19:42.765858Z",
     "iopub.status.busy": "2023-01-14T13:19:42.765445Z",
     "iopub.status.idle": "2023-01-14T13:19:43.159826Z",
     "shell.execute_reply": "2023-01-14T13:19:43.158872Z"
    },
    "papermill": {
     "duration": 0.408835,
     "end_time": "2023-01-14T13:19:43.162180",
     "exception": false,
     "start_time": "2023-01-14T13:19:42.753345",
     "status": "completed"
    },
    "tags": []
   },
   "outputs": [
    {
     "data": {
      "text/plain": [
       "XGBRegressor(base_score=0.5, booster='gbtree', callbacks=None,\n",
       "             colsample_bylevel=1, colsample_bynode=1, colsample_bytree=1,\n",
       "             early_stopping_rounds=None, enable_categorical=False,\n",
       "             eval_metric=None, gamma=0, gpu_id=-1, grow_policy='depthwise',\n",
       "             importance_type=None, interaction_constraints='',\n",
       "             learning_rate=0.300000012, max_bin=256, max_cat_to_onehot=4,\n",
       "             max_delta_step=0, max_depth=6, max_leaves=0, min_child_weight=1,\n",
       "             missing=nan, monotone_constraints='()', n_estimators=100, n_jobs=0,\n",
       "             num_parallel_tree=1, predictor='auto', random_state=0, reg_alpha=0,\n",
       "             reg_lambda=1, ...)"
      ]
     },
     "execution_count": 12,
     "metadata": {},
     "output_type": "execute_result"
    }
   ],
   "source": [
    "model=XGBRegressor()\n",
    "model.fit(X_train,Y_train)\n"
   ]
  },
  {
   "cell_type": "markdown",
   "id": "7a8be92e",
   "metadata": {
    "papermill": {
     "duration": 0.01017,
     "end_time": "2023-01-14T13:19:43.183237",
     "exception": false,
     "start_time": "2023-01-14T13:19:43.173067",
     "status": "completed"
    },
    "tags": []
   },
   "source": [
    "Predictions on the training data"
   ]
  },
  {
   "cell_type": "code",
   "execution_count": 13,
   "id": "054b61d7",
   "metadata": {
    "execution": {
     "iopub.execute_input": "2023-01-14T13:19:43.207971Z",
     "iopub.status.busy": "2023-01-14T13:19:43.206589Z",
     "iopub.status.idle": "2023-01-14T13:19:43.229816Z",
     "shell.execute_reply": "2023-01-14T13:19:43.228783Z"
    },
    "papermill": {
     "duration": 0.039982,
     "end_time": "2023-01-14T13:19:43.234137",
     "exception": false,
     "start_time": "2023-01-14T13:19:43.194155",
     "status": "completed"
    },
    "tags": []
   },
   "outputs": [
    {
     "name": "stdout",
     "output_type": "stream",
     "text": [
      "[23.147501  20.99463   20.090284  34.69053   13.903663  13.510157\n",
      " 21.998634  15.1940975 10.899711  22.709627  13.832816   5.592794\n",
      " 29.810236  49.99096   34.89215   20.607384  23.351097  19.23555\n",
      " 32.695698  19.641418  26.991022   8.401829  46.00729   21.708961\n",
      " 27.062933  19.321356  19.288303  24.809872  22.61626   31.70493\n",
      " 18.542515   8.697379  17.395294  23.700663  13.304856  10.492197\n",
      " 12.688369  25.016556  19.67495   14.902088  24.193798  25.007143\n",
      " 14.900281  16.995798  15.6009035 12.699232  24.51537   14.999952\n",
      " 50.00104   17.525454  21.184624  31.998049  15.613355  22.89754\n",
      " 19.325378  18.717896  23.301125  37.222923  30.09486   33.102703\n",
      " 21.00072   49.999332  13.405827   5.0280113 16.492886   8.405072\n",
      " 28.64328   19.499939  20.586452  45.402164  39.79833   33.407326\n",
      " 19.83506   33.406372  25.271482  50.001534  12.521657  17.457413\n",
      " 18.61758   22.602625  50.002117  23.801117  23.317268  23.087355\n",
      " 41.700035  16.119293  31.620516  36.069206   7.0022025 20.3827\n",
      " 19.996452  11.986318  25.023014  49.970123  37.881588  23.123034\n",
      " 41.292133  17.596548  16.305374  30.034231  22.860699  19.810343\n",
      " 17.098848  18.898268  18.96717   22.606049  23.141363  33.183487\n",
      " 15.010934  11.693824  18.78828   20.80524   17.99983   19.68991\n",
      " 50.00332   17.207317  16.404053  17.520426  14.593481  33.110855\n",
      " 14.508482  43.821655  34.939106  20.381636  14.655634   8.094332\n",
      " 11.7662115 11.846876  18.69599    6.314154  23.983706  13.084503\n",
      " 19.603905  49.989143  22.300608  18.930315  31.197134  20.69645\n",
      " 32.21111   36.15102   14.240763  15.698188  49.99381   20.423601\n",
      " 16.184978  13.409128  50.01321   31.602146  12.271495  19.219482\n",
      " 29.794909  31.536846  22.798779  10.189648  24.08648   23.710463\n",
      " 21.991894  13.802495  28.420696  33.181534  13.105958  18.988266\n",
      " 26.576572  36.967175  30.794083  22.77071   10.201246  22.213818\n",
      " 24.483162  36.178806  23.09194   20.097307  19.470194  10.786644\n",
      " 22.671095  19.502405  20.109184   9.611871  42.799637  48.794792\n",
      " 13.097208  20.28583   24.793974  14.110478  21.701134  22.217012\n",
      " 33.003544  21.11041   25.00658   19.122992  32.398567  13.605098\n",
      " 15.1145315 23.088867  27.474783  19.364998  26.487135  27.499458\n",
      " 28.697094  21.21718   18.703201  26.775208  14.010719  21.692347\n",
      " 18.372562  43.11582   29.081839  20.289959  23.680176  18.308306\n",
      " 17.204844  18.320065  24.393475  26.396057  19.094141  13.3019905\n",
      " 22.15311   22.185797   8.516214  18.894428  21.792608  19.331121\n",
      " 18.197924   7.5006843 22.406403  20.004215  14.412416  22.503702\n",
      " 28.53306   21.591028  13.810223  20.497831  21.898977  23.104464\n",
      " 49.99585   16.242056  30.294561  50.001595  17.771557  19.053703\n",
      " 10.399217  20.378187  16.49973   17.183376  16.70228   19.495337\n",
      " 30.507633  28.98067   19.528809  23.148346  24.391027   9.521643\n",
      " 23.886024  49.995125  21.167099  22.597813  19.965279  13.4072275\n",
      " 19.948694  17.087479  12.738807  23.00453   15.222122  20.604322\n",
      " 26.207253  18.09243   24.090246  14.105     21.689667  20.08065\n",
      " 25.010437  27.874954  22.92366   18.509727  22.190847  24.004797\n",
      " 14.788686  19.89675   24.39812   17.796036  24.556297  31.970308\n",
      " 17.774675  23.356768  16.134794  13.009915  10.98219   24.28906\n",
      " 15.56895   35.209793  19.605724  42.301712   8.797891  24.400295\n",
      " 14.086652  15.408639  17.301126  22.127419  23.09363   44.79579\n",
      " 17.776684  31.50014   22.835577  16.888603  23.925127  12.097476\n",
      " 38.685944  21.388391  15.98878   23.912495  11.909485  24.960499\n",
      "  7.2018585 24.696215  18.201897  22.489008  23.03332   24.260433\n",
      " 17.101519  17.805563  13.493165  27.105328  13.311978  21.913465\n",
      " 20.00738   15.405392  16.595737  22.301016  24.708412  21.422579\n",
      " 22.878702  29.606575  21.877811  19.900253  29.605219  23.407152\n",
      " 13.781474  24.454706  11.897682   7.2203646 20.521074   9.725295\n",
      " 48.30087   25.19501   11.688618  17.404732  14.480284  28.618876\n",
      " 19.397131  22.468653   7.0117908 20.602013  22.970919  19.719397\n",
      " 23.693787  25.048244  27.977154  13.393578  14.513882  20.309145\n",
      " 19.306028  24.095829  14.894031  26.382381  33.298378  23.61644\n",
      " 24.591206  18.514652  20.900269  10.406055  23.303423  13.092017\n",
      " 24.675085  22.582184  20.502762  16.820635  10.220605  33.81239\n",
      " 18.608067  49.999187  23.775583  23.909609  21.192276  18.805798\n",
      "  8.502987  21.50807   23.204473  21.012218  16.611097  28.100965\n",
      " 21.193024  28.419638  14.294126  49.99958   30.988504  24.991066\n",
      " 21.433628  18.975573  28.991457  15.206939  22.817244  21.765755\n",
      " 19.915497  23.7961   ]\n"
     ]
    }
   ],
   "source": [
    "predictions=model.predict(X_train)\n",
    "print(predictions)"
   ]
  },
  {
   "cell_type": "markdown",
   "id": "aaa686be",
   "metadata": {
    "papermill": {
     "duration": 0.011036,
     "end_time": "2023-01-14T13:19:43.257292",
     "exception": false,
     "start_time": "2023-01-14T13:19:43.246256",
     "status": "completed"
    },
    "tags": []
   },
   "source": [
    "Using R Squared Error and Mean Abs Error to evaluate how well our model performed."
   ]
  },
  {
   "cell_type": "code",
   "execution_count": 14,
   "id": "8567299a",
   "metadata": {
    "execution": {
     "iopub.execute_input": "2023-01-14T13:19:43.281625Z",
     "iopub.status.busy": "2023-01-14T13:19:43.281220Z",
     "iopub.status.idle": "2023-01-14T13:19:43.289626Z",
     "shell.execute_reply": "2023-01-14T13:19:43.288165Z"
    },
    "papermill": {
     "duration": 0.025757,
     "end_time": "2023-01-14T13:19:43.293635",
     "exception": false,
     "start_time": "2023-01-14T13:19:43.267878",
     "status": "completed"
    },
    "tags": []
   },
   "outputs": [
    {
     "name": "stdout",
     "output_type": "stream",
     "text": [
      "For Training Data\n",
      "R squared error= 0.9999948236320982\n",
      "Mean Absolute Error is  0.0145848437110976\n"
     ]
    }
   ],
   "source": [
    "print(\"For Training Data\")\n",
    "rse=metrics.r2_score(Y_train,predictions)\n",
    "print(\"R squared error=\",rse)\n",
    "\n",
    "mae=metrics.mean_absolute_error(Y_train,predictions)\n",
    "print(\"Mean Absolute Error is \",mae)"
   ]
  },
  {
   "cell_type": "markdown",
   "id": "e735f69a",
   "metadata": {
    "papermill": {
     "duration": 0.010581,
     "end_time": "2023-01-14T13:19:43.316455",
     "exception": false,
     "start_time": "2023-01-14T13:19:43.305874",
     "status": "completed"
    },
    "tags": []
   },
   "source": [
    "We now use our testing data and evaluate it's metrics"
   ]
  },
  {
   "cell_type": "code",
   "execution_count": 15,
   "id": "b0996377",
   "metadata": {
    "execution": {
     "iopub.execute_input": "2023-01-14T13:19:43.340945Z",
     "iopub.status.busy": "2023-01-14T13:19:43.340246Z",
     "iopub.status.idle": "2023-01-14T13:19:43.359434Z",
     "shell.execute_reply": "2023-01-14T13:19:43.357511Z"
    },
    "papermill": {
     "duration": 0.036708,
     "end_time": "2023-01-14T13:19:43.363772",
     "exception": false,
     "start_time": "2023-01-14T13:19:43.327064",
     "status": "completed"
    },
    "tags": []
   },
   "outputs": [
    {
     "name": "stdout",
     "output_type": "stream",
     "text": [
      "Metrics for Testing Data\n",
      "The R squared error is  0.8711660369151691\n",
      "The Mean absolute error is 2.2834744154238233\n"
     ]
    }
   ],
   "source": [
    "print(\"Metrics for Testing Data\")\n",
    "actual_predictions=model.predict(X_test)\n",
    "r=metrics.r2_score(Y_test,actual_predictions)\n",
    "print(\"The R squared error is \", r)\n",
    "m=metrics.mean_absolute_error(Y_test,actual_predictions)\n",
    "print(\"The Mean absolute error is\",m)\n",
    "\n",
    "\n"
   ]
  },
  {
   "cell_type": "markdown",
   "id": "2fa3e9aa",
   "metadata": {
    "papermill": {
     "duration": 0.010272,
     "end_time": "2023-01-14T13:19:43.385916",
     "exception": false,
     "start_time": "2023-01-14T13:19:43.375644",
     "status": "completed"
    },
    "tags": []
   },
   "source": [
    "Visualizing the actual prices and predicted prices"
   ]
  },
  {
   "cell_type": "code",
   "execution_count": 16,
   "id": "f62a565f",
   "metadata": {
    "execution": {
     "iopub.execute_input": "2023-01-14T13:19:43.409122Z",
     "iopub.status.busy": "2023-01-14T13:19:43.408441Z",
     "iopub.status.idle": "2023-01-14T13:19:43.626909Z",
     "shell.execute_reply": "2023-01-14T13:19:43.625931Z"
    },
    "papermill": {
     "duration": 0.232703,
     "end_time": "2023-01-14T13:19:43.629263",
     "exception": false,
     "start_time": "2023-01-14T13:19:43.396560",
     "status": "completed"
    },
    "tags": []
   },
   "outputs": [
    {
     "data": {
      "image/png": "[encoded data removed]",
      "text/plain": [
       "<Figure size 432x288 with 1 Axes>"
      ]
     },
     "metadata": {
      "needs_background": "light"
     },
     "output_type": "display_data"
    }
   ],
   "source": [
    "plt.scatter(Y_train,predictions)\n",
    "plt.xlabel(\"Actual prices\")\n",
    "plt.ylabel(\"Predicted prices\")\n",
    "plt.title(\"Actual Price vs Predicted Price\")\n",
    "plt.show()"
   ]
  },
  {
   "cell_type": "markdown",
   "id": "95fb73b8",
   "metadata": {
    "papermill": {
     "duration": 0.010562,
     "end_time": "2023-01-14T13:19:43.650831",
     "exception": false,
     "start_time": "2023-01-14T13:19:43.640269",
     "status": "completed"
    },
    "tags": []
   },
   "source": []
  }
 ],
 "metadata": {
  "kernelspec": {
   "display_name": "Python 3",
   "language": "python",
   "name": "python3"
  },
  "language_info": {
   "codemirror_mode": {
    "name": "ipython",
    "version": 3
   },
   "file_extension": ".py",
   "mimetype": "text/x-python",
   "name": "python",
   "nbconvert_exporter": "python",
   "pygments_lexer": "ipython3",
   "version": "3.7.12"
  },
  "papermill": {
   "default_parameters": {},
   "duration": 17.763743,
   "end_time": "2023-01-14T13:19:44.586219",
   "environment_variables": {},
   "exception": null,
   "input_path": "__notebook__.ipynb",
   "output_path": "__notebook__.ipynb",
   "parameters": {},
   "start_time": "2023-01-14T13:19:26.822476",
   "version": "2.3.4"
  }
 },
 "nbformat": 4,
 "nbformat_minor": 5
}
